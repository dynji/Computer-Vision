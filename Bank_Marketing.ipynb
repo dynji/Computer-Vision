{
  "cells": [
    {
      "cell_type": "markdown",
      "metadata": {
        "id": "view-in-github",
        "colab_type": "text"
      },
      "source": [
        "<a href=\"https://colab.research.google.com/github/dynji/Computer-Vision/blob/main/Bank_Marketing.ipynb\" target=\"_parent\"><img src=\"https://colab.research.google.com/assets/colab-badge.svg\" alt=\"Open In Colab\"/></a>"
      ]
    },
    {
      "cell_type": "code",
      "execution_count": null,
      "metadata": {
        "colab": {
          "base_uri": "https://localhost:8080/"
        },
        "id": "LFG_MsF5BUn6",
        "outputId": "e2f1d92c-eb84-4446-8b2c-c367aea48817"
      },
      "outputs": [
        {
          "output_type": "stream",
          "name": "stdout",
          "text": [
            "Mounted at /content/drive\n"
          ]
        }
      ],
      "source": [
        "from google.colab import drive\n",
        "drive.mount('/content/drive')"
      ]
    },
    {
      "cell_type": "markdown",
      "metadata": {
        "id": "u2wXYG0SGcF1"
      },
      "source": [
        "## Data_Preprocesssing (Tiền xử lý dữ liệu)"
      ]
    },
    {
      "cell_type": "markdown",
      "metadata": {
        "id": "aZKu6WVrGqVX"
      },
      "source": [
        "**Data overview**"
      ]
    },
    {
      "cell_type": "code",
      "execution_count": null,
      "metadata": {
        "colab": {
          "base_uri": "https://localhost:8080/",
          "height": 424
        },
        "id": "8rDyNJ03GuJI",
        "outputId": "851c411d-e6f5-409b-ce71-2719d59f272c"
      },
      "outputs": [
        {
          "output_type": "execute_result",
          "data": {
            "text/plain": [
              "       age           job   marital  education default  balance housing loan  \\\n",
              "0       58    management   married   tertiary      no     2143     yes   no   \n",
              "1       44    technician    single  secondary      no       29     yes   no   \n",
              "2       33  entrepreneur   married  secondary      no        2     yes  yes   \n",
              "3       47   blue-collar   married    unknown      no     1506     yes   no   \n",
              "4       33       unknown    single    unknown      no        1      no   no   \n",
              "...    ...           ...       ...        ...     ...      ...     ...  ...   \n",
              "45206   51    technician   married   tertiary      no      825      no   no   \n",
              "45207   71       retired  divorced    primary      no     1729      no   no   \n",
              "45208   72       retired   married  secondary      no     5715      no   no   \n",
              "45209   57   blue-collar   married  secondary      no      668      no   no   \n",
              "45210   37  entrepreneur   married  secondary      no     2971      no   no   \n",
              "\n",
              "         contact  day month  duration  campaign  pdays  previous poutcome    y  \n",
              "0        unknown    5   may       261         1     -1         0  unknown   no  \n",
              "1        unknown    5   may       151         1     -1         0  unknown   no  \n",
              "2        unknown    5   may        76         1     -1         0  unknown   no  \n",
              "3        unknown    5   may        92         1     -1         0  unknown   no  \n",
              "4        unknown    5   may       198         1     -1         0  unknown   no  \n",
              "...          ...  ...   ...       ...       ...    ...       ...      ...  ...  \n",
              "45206   cellular   17   nov       977         3     -1         0  unknown  yes  \n",
              "45207   cellular   17   nov       456         2     -1         0  unknown  yes  \n",
              "45208   cellular   17   nov      1127         5    184         3  success  yes  \n",
              "45209  telephone   17   nov       508         4     -1         0  unknown   no  \n",
              "45210   cellular   17   nov       361         2    188        11    other   no  \n",
              "\n",
              "[45211 rows x 17 columns]"
            ],
            "text/html": [
              "\n",
              "  <div id=\"df-c53d7286-1bdf-40cb-a4cb-08bff541edab\">\n",
              "    <div class=\"colab-df-container\">\n",
              "      <div>\n",
              "<style scoped>\n",
              "    .dataframe tbody tr th:only-of-type {\n",
              "        vertical-align: middle;\n",
              "    }\n",
              "\n",
              "    .dataframe tbody tr th {\n",
              "        vertical-align: top;\n",
              "    }\n",
              "\n",
              "    .dataframe thead th {\n",
              "        text-align: right;\n",
              "    }\n",
              "</style>\n",
              "<table border=\"1\" class=\"dataframe\">\n",
              "  <thead>\n",
              "    <tr style=\"text-align: right;\">\n",
              "      <th></th>\n",
              "      <th>age</th>\n",
              "      <th>job</th>\n",
              "      <th>marital</th>\n",
              "      <th>education</th>\n",
              "      <th>default</th>\n",
              "      <th>balance</th>\n",
              "      <th>housing</th>\n",
              "      <th>loan</th>\n",
              "      <th>contact</th>\n",
              "      <th>day</th>\n",
              "      <th>month</th>\n",
              "      <th>duration</th>\n",
              "      <th>campaign</th>\n",
              "      <th>pdays</th>\n",
              "      <th>previous</th>\n",
              "      <th>poutcome</th>\n",
              "      <th>y</th>\n",
              "    </tr>\n",
              "  </thead>\n",
              "  <tbody>\n",
              "    <tr>\n",
              "      <th>0</th>\n",
              "      <td>58</td>\n",
              "      <td>management</td>\n",
              "      <td>married</td>\n",
              "      <td>tertiary</td>\n",
              "      <td>no</td>\n",
              "      <td>2143</td>\n",
              "      <td>yes</td>\n",
              "      <td>no</td>\n",
              "      <td>unknown</td>\n",
              "      <td>5</td>\n",
              "      <td>may</td>\n",
              "      <td>261</td>\n",
              "      <td>1</td>\n",
              "      <td>-1</td>\n",
              "      <td>0</td>\n",
              "      <td>unknown</td>\n",
              "      <td>no</td>\n",
              "    </tr>\n",
              "    <tr>\n",
              "      <th>1</th>\n",
              "      <td>44</td>\n",
              "      <td>technician</td>\n",
              "      <td>single</td>\n",
              "      <td>secondary</td>\n",
              "      <td>no</td>\n",
              "      <td>29</td>\n",
              "      <td>yes</td>\n",
              "      <td>no</td>\n",
              "      <td>unknown</td>\n",
              "      <td>5</td>\n",
              "      <td>may</td>\n",
              "      <td>151</td>\n",
              "      <td>1</td>\n",
              "      <td>-1</td>\n",
              "      <td>0</td>\n",
              "      <td>unknown</td>\n",
              "      <td>no</td>\n",
              "    </tr>\n",
              "    <tr>\n",
              "      <th>2</th>\n",
              "      <td>33</td>\n",
              "      <td>entrepreneur</td>\n",
              "      <td>married</td>\n",
              "      <td>secondary</td>\n",
              "      <td>no</td>\n",
              "      <td>2</td>\n",
              "      <td>yes</td>\n",
              "      <td>yes</td>\n",
              "      <td>unknown</td>\n",
              "      <td>5</td>\n",
              "      <td>may</td>\n",
              "      <td>76</td>\n",
              "      <td>1</td>\n",
              "      <td>-1</td>\n",
              "      <td>0</td>\n",
              "      <td>unknown</td>\n",
              "      <td>no</td>\n",
              "    </tr>\n",
              "    <tr>\n",
              "      <th>3</th>\n",
              "      <td>47</td>\n",
              "      <td>blue-collar</td>\n",
              "      <td>married</td>\n",
              "      <td>unknown</td>\n",
              "      <td>no</td>\n",
              "      <td>1506</td>\n",
              "      <td>yes</td>\n",
              "      <td>no</td>\n",
              "      <td>unknown</td>\n",
              "      <td>5</td>\n",
              "      <td>may</td>\n",
              "      <td>92</td>\n",
              "      <td>1</td>\n",
              "      <td>-1</td>\n",
              "      <td>0</td>\n",
              "      <td>unknown</td>\n",
              "      <td>no</td>\n",
              "    </tr>\n",
              "    <tr>\n",
              "      <th>4</th>\n",
              "      <td>33</td>\n",
              "      <td>unknown</td>\n",
              "      <td>single</td>\n",
              "      <td>unknown</td>\n",
              "      <td>no</td>\n",
              "      <td>1</td>\n",
              "      <td>no</td>\n",
              "      <td>no</td>\n",
              "      <td>unknown</td>\n",
              "      <td>5</td>\n",
              "      <td>may</td>\n",
              "      <td>198</td>\n",
              "      <td>1</td>\n",
              "      <td>-1</td>\n",
              "      <td>0</td>\n",
              "      <td>unknown</td>\n",
              "      <td>no</td>\n",
              "    </tr>\n",
              "    <tr>\n",
              "      <th>...</th>\n",
              "      <td>...</td>\n",
              "      <td>...</td>\n",
              "      <td>...</td>\n",
              "      <td>...</td>\n",
              "      <td>...</td>\n",
              "      <td>...</td>\n",
              "      <td>...</td>\n",
              "      <td>...</td>\n",
              "      <td>...</td>\n",
              "      <td>...</td>\n",
              "      <td>...</td>\n",
              "      <td>...</td>\n",
              "      <td>...</td>\n",
              "      <td>...</td>\n",
              "      <td>...</td>\n",
              "      <td>...</td>\n",
              "      <td>...</td>\n",
              "    </tr>\n",
              "    <tr>\n",
              "      <th>45206</th>\n",
              "      <td>51</td>\n",
              "      <td>technician</td>\n",
              "      <td>married</td>\n",
              "      <td>tertiary</td>\n",
              "      <td>no</td>\n",
              "      <td>825</td>\n",
              "      <td>no</td>\n",
              "      <td>no</td>\n",
              "      <td>cellular</td>\n",
              "      <td>17</td>\n",
              "      <td>nov</td>\n",
              "      <td>977</td>\n",
              "      <td>3</td>\n",
              "      <td>-1</td>\n",
              "      <td>0</td>\n",
              "      <td>unknown</td>\n",
              "      <td>yes</td>\n",
              "    </tr>\n",
              "    <tr>\n",
              "      <th>45207</th>\n",
              "      <td>71</td>\n",
              "      <td>retired</td>\n",
              "      <td>divorced</td>\n",
              "      <td>primary</td>\n",
              "      <td>no</td>\n",
              "      <td>1729</td>\n",
              "      <td>no</td>\n",
              "      <td>no</td>\n",
              "      <td>cellular</td>\n",
              "      <td>17</td>\n",
              "      <td>nov</td>\n",
              "      <td>456</td>\n",
              "      <td>2</td>\n",
              "      <td>-1</td>\n",
              "      <td>0</td>\n",
              "      <td>unknown</td>\n",
              "      <td>yes</td>\n",
              "    </tr>\n",
              "    <tr>\n",
              "      <th>45208</th>\n",
              "      <td>72</td>\n",
              "      <td>retired</td>\n",
              "      <td>married</td>\n",
              "      <td>secondary</td>\n",
              "      <td>no</td>\n",
              "      <td>5715</td>\n",
              "      <td>no</td>\n",
              "      <td>no</td>\n",
              "      <td>cellular</td>\n",
              "      <td>17</td>\n",
              "      <td>nov</td>\n",
              "      <td>1127</td>\n",
              "      <td>5</td>\n",
              "      <td>184</td>\n",
              "      <td>3</td>\n",
              "      <td>success</td>\n",
              "      <td>yes</td>\n",
              "    </tr>\n",
              "    <tr>\n",
              "      <th>45209</th>\n",
              "      <td>57</td>\n",
              "      <td>blue-collar</td>\n",
              "      <td>married</td>\n",
              "      <td>secondary</td>\n",
              "      <td>no</td>\n",
              "      <td>668</td>\n",
              "      <td>no</td>\n",
              "      <td>no</td>\n",
              "      <td>telephone</td>\n",
              "      <td>17</td>\n",
              "      <td>nov</td>\n",
              "      <td>508</td>\n",
              "      <td>4</td>\n",
              "      <td>-1</td>\n",
              "      <td>0</td>\n",
              "      <td>unknown</td>\n",
              "      <td>no</td>\n",
              "    </tr>\n",
              "    <tr>\n",
              "      <th>45210</th>\n",
              "      <td>37</td>\n",
              "      <td>entrepreneur</td>\n",
              "      <td>married</td>\n",
              "      <td>secondary</td>\n",
              "      <td>no</td>\n",
              "      <td>2971</td>\n",
              "      <td>no</td>\n",
              "      <td>no</td>\n",
              "      <td>cellular</td>\n",
              "      <td>17</td>\n",
              "      <td>nov</td>\n",
              "      <td>361</td>\n",
              "      <td>2</td>\n",
              "      <td>188</td>\n",
              "      <td>11</td>\n",
              "      <td>other</td>\n",
              "      <td>no</td>\n",
              "    </tr>\n",
              "  </tbody>\n",
              "</table>\n",
              "<p>45211 rows × 17 columns</p>\n",
              "</div>\n",
              "      <button class=\"colab-df-convert\" onclick=\"convertToInteractive('df-c53d7286-1bdf-40cb-a4cb-08bff541edab')\"\n",
              "              title=\"Convert this dataframe to an interactive table.\"\n",
              "              style=\"display:none;\">\n",
              "        \n",
              "  <svg xmlns=\"http://www.w3.org/2000/svg\" height=\"24px\"viewBox=\"0 0 24 24\"\n",
              "       width=\"24px\">\n",
              "    <path d=\"M0 0h24v24H0V0z\" fill=\"none\"/>\n",
              "    <path d=\"M18.56 5.44l.94 2.06.94-2.06 2.06-.94-2.06-.94-.94-2.06-.94 2.06-2.06.94zm-11 1L8.5 8.5l.94-2.06 2.06-.94-2.06-.94L8.5 2.5l-.94 2.06-2.06.94zm10 10l.94 2.06.94-2.06 2.06-.94-2.06-.94-.94-2.06-.94 2.06-2.06.94z\"/><path d=\"M17.41 7.96l-1.37-1.37c-.4-.4-.92-.59-1.43-.59-.52 0-1.04.2-1.43.59L10.3 9.45l-7.72 7.72c-.78.78-.78 2.05 0 2.83L4 21.41c.39.39.9.59 1.41.59.51 0 1.02-.2 1.41-.59l7.78-7.78 2.81-2.81c.8-.78.8-2.07 0-2.86zM5.41 20L4 18.59l7.72-7.72 1.47 1.35L5.41 20z\"/>\n",
              "  </svg>\n",
              "      </button>\n",
              "      \n",
              "  <style>\n",
              "    .colab-df-container {\n",
              "      display:flex;\n",
              "      flex-wrap:wrap;\n",
              "      gap: 12px;\n",
              "    }\n",
              "\n",
              "    .colab-df-convert {\n",
              "      background-color: #E8F0FE;\n",
              "      border: none;\n",
              "      border-radius: 50%;\n",
              "      cursor: pointer;\n",
              "      display: none;\n",
              "      fill: #1967D2;\n",
              "      height: 32px;\n",
              "      padding: 0 0 0 0;\n",
              "      width: 32px;\n",
              "    }\n",
              "\n",
              "    .colab-df-convert:hover {\n",
              "      background-color: #E2EBFA;\n",
              "      box-shadow: 0px 1px 2px rgba(60, 64, 67, 0.3), 0px 1px 3px 1px rgba(60, 64, 67, 0.15);\n",
              "      fill: #174EA6;\n",
              "    }\n",
              "\n",
              "    [theme=dark] .colab-df-convert {\n",
              "      background-color: #3B4455;\n",
              "      fill: #D2E3FC;\n",
              "    }\n",
              "\n",
              "    [theme=dark] .colab-df-convert:hover {\n",
              "      background-color: #434B5C;\n",
              "      box-shadow: 0px 1px 3px 1px rgba(0, 0, 0, 0.15);\n",
              "      filter: drop-shadow(0px 1px 2px rgba(0, 0, 0, 0.3));\n",
              "      fill: #FFFFFF;\n",
              "    }\n",
              "  </style>\n",
              "\n",
              "      <script>\n",
              "        const buttonEl =\n",
              "          document.querySelector('#df-c53d7286-1bdf-40cb-a4cb-08bff541edab button.colab-df-convert');\n",
              "        buttonEl.style.display =\n",
              "          google.colab.kernel.accessAllowed ? 'block' : 'none';\n",
              "\n",
              "        async function convertToInteractive(key) {\n",
              "          const element = document.querySelector('#df-c53d7286-1bdf-40cb-a4cb-08bff541edab');\n",
              "          const dataTable =\n",
              "            await google.colab.kernel.invokeFunction('convertToInteractive',\n",
              "                                                     [key], {});\n",
              "          if (!dataTable) return;\n",
              "\n",
              "          const docLinkHtml = 'Like what you see? Visit the ' +\n",
              "            '<a target=\"_blank\" href=https://colab.research.google.com/notebooks/data_table.ipynb>data table notebook</a>'\n",
              "            + ' to learn more about interactive tables.';\n",
              "          element.innerHTML = '';\n",
              "          dataTable['output_type'] = 'display_data';\n",
              "          await google.colab.output.renderOutput(dataTable, element);\n",
              "          const docLink = document.createElement('div');\n",
              "          docLink.innerHTML = docLinkHtml;\n",
              "          element.appendChild(docLink);\n",
              "        }\n",
              "      </script>\n",
              "    </div>\n",
              "  </div>\n",
              "  "
            ]
          },
          "metadata": {},
          "execution_count": 2
        }
      ],
      "source": [
        "import numpy as np #thu vien cho phep lam viec hieu qua voi ma tran va mang\n",
        "import matplotlib.pyplot as plt #thu vien giup ve cac diem du lieu truc quan hoa, de nhin\n",
        "import pandas as pd #thu vien ma nguon mo duoc xay dung tren numpy, ho tro doc va phan tich du lieu duoi dang bang\n",
        "import seaborn as sns #thu vien giup truc quan hoa du lieu, ve hinh tot hon\n",
        "\n",
        "bank_full_df = pd.read_csv('/content/drive/MyDrive/AI report/bank-full.csv', encoding = \"Latin-1\") #doc du lieu tu file\n",
        "bank_full_df"
      ]
    },
    {
      "cell_type": "code",
      "execution_count": null,
      "metadata": {
        "colab": {
          "base_uri": "https://localhost:8080/"
        },
        "id": "uMcQUaoFIUJS",
        "outputId": "dcbc7200-288f-4f09-eb47-8852ffee58d1"
      },
      "outputs": [
        {
          "output_type": "execute_result",
          "data": {
            "text/plain": [
              "no     39922\n",
              "yes     5289\n",
              "Name: y, dtype: int64"
            ]
          },
          "metadata": {},
          "execution_count": 3
        }
      ],
      "source": [
        "bank_full_df.y.value_counts() #xuat ra so loai gia tri cua y: bao nhieu no, bao nhieu yes"
      ]
    },
    {
      "cell_type": "code",
      "execution_count": null,
      "metadata": {
        "colab": {
          "base_uri": "https://localhost:8080/",
          "height": 390
        },
        "id": "sx27ogLRLU2h",
        "outputId": "0ab5dcda-6566-4dee-830a-bd4688f0453b"
      },
      "outputs": [
        {
          "output_type": "execute_result",
          "data": {
            "text/plain": [
              "<matplotlib.axes._subplots.AxesSubplot at 0x7f9e42a7cf90>"
            ]
          },
          "metadata": {},
          "execution_count": 4
        },
        {
          "output_type": "display_data",
          "data": {
            "text/plain": [
              "<Figure size 720x432 with 1 Axes>"
            ],
            "image/png": "[encoded data removed]"
          },
          "metadata": {}
        }
      ],
      "source": [
        "data = bank_full_df.y.value_counts() #ve hien thi gia tri cua y\n",
        "data.plot.pie(figsize=(10,6), ylabel='result', fontsize = 14, autopct='%1.2f%%', title = 'deposit', explode=[0,0.15])"
      ]
    },
    {
      "cell_type": "markdown",
      "metadata": {
        "id": "jp-Z3rhjNVx8"
      },
      "source": [
        "\n",
        "\n",
        "\n",
        "\n",
        "\n",
        "\n",
        "*the class label is highly imbalance, over will balance it by undersampling*"
      ]
    },
    {
      "cell_type": "code",
      "execution_count": null,
      "metadata": {
        "id": "USg2lmXTNZYp"
      },
      "outputs": [],
      "source": [
        "from sklearn.utils import shuffle"
      ]
    },
    {
      "cell_type": "code",
      "execution_count": null,
      "metadata": {
        "colab": {
          "base_uri": "https://localhost:8080/",
          "height": 206
        },
        "id": "itnm0nHWNhla",
        "outputId": "1e8f5a5d-afde-4925-cb78-9db340848d6e"
      },
      "outputs": [
        {
          "output_type": "execute_result",
          "data": {
            "text/plain": [
              "   age          job  marital  education default  balance housing loan  \\\n",
              "0   32  blue-collar  married  secondary      no     5164      no   no   \n",
              "1   56   management  married    primary      no      870      no   no   \n",
              "2   28      student   single   tertiary      no      844      no   no   \n",
              "3   27  blue-collar   single  secondary      no      535      no   no   \n",
              "4   59      retired  married    primary      no     4007      no   no   \n",
              "\n",
              "    contact  day month  duration  campaign  pdays  previous poutcome    y  \n",
              "0  cellular   21   nov       253         1     -1         0  unknown   no  \n",
              "1  cellular   14   may       220         1    179         1  success  yes  \n",
              "2  cellular   16   apr       551         2     -1         0  unknown  yes  \n",
              "3  cellular   16   aug       265         3     95         4  success  yes  \n",
              "4  cellular   26   mar       157         2    116         4  failure   no  "
            ],
            "text/html": [
              "\n",
              "  <div id=\"df-21d8509b-c46b-4ad7-b6e6-ad024a632d0b\">\n",
              "    <div class=\"colab-df-container\">\n",
              "      <div>\n",
              "<style scoped>\n",
              "    .dataframe tbody tr th:only-of-type {\n",
              "        vertical-align: middle;\n",
              "    }\n",
              "\n",
              "    .dataframe tbody tr th {\n",
              "        vertical-align: top;\n",
              "    }\n",
              "\n",
              "    .dataframe thead th {\n",
              "        text-align: right;\n",
              "    }\n",
              "</style>\n",
              "<table border=\"1\" class=\"dataframe\">\n",
              "  <thead>\n",
              "    <tr style=\"text-align: right;\">\n",
              "      <th></th>\n",
              "      <th>age</th>\n",
              "      <th>job</th>\n",
              "      <th>marital</th>\n",
              "      <th>education</th>\n",
              "      <th>default</th>\n",
              "      <th>balance</th>\n",
              "      <th>housing</th>\n",
              "      <th>loan</th>\n",
              "      <th>contact</th>\n",
              "      <th>day</th>\n",
              "      <th>month</th>\n",
              "      <th>duration</th>\n",
              "      <th>campaign</th>\n",
              "      <th>pdays</th>\n",
              "      <th>previous</th>\n",
              "      <th>poutcome</th>\n",
              "      <th>y</th>\n",
              "    </tr>\n",
              "  </thead>\n",
              "  <tbody>\n",
              "    <tr>\n",
              "      <th>0</th>\n",
              "      <td>32</td>\n",
              "      <td>blue-collar</td>\n",
              "      <td>married</td>\n",
              "      <td>secondary</td>\n",
              "      <td>no</td>\n",
              "      <td>5164</td>\n",
              "      <td>no</td>\n",
              "      <td>no</td>\n",
              "      <td>cellular</td>\n",
              "      <td>21</td>\n",
              "      <td>nov</td>\n",
              "      <td>253</td>\n",
              "      <td>1</td>\n",
              "      <td>-1</td>\n",
              "      <td>0</td>\n",
              "      <td>unknown</td>\n",
              "      <td>no</td>\n",
              "    </tr>\n",
              "    <tr>\n",
              "      <th>1</th>\n",
              "      <td>56</td>\n",
              "      <td>management</td>\n",
              "      <td>married</td>\n",
              "      <td>primary</td>\n",
              "      <td>no</td>\n",
              "      <td>870</td>\n",
              "      <td>no</td>\n",
              "      <td>no</td>\n",
              "      <td>cellular</td>\n",
              "      <td>14</td>\n",
              "      <td>may</td>\n",
              "      <td>220</td>\n",
              "      <td>1</td>\n",
              "      <td>179</td>\n",
              "      <td>1</td>\n",
              "      <td>success</td>\n",
              "      <td>yes</td>\n",
              "    </tr>\n",
              "    <tr>\n",
              "      <th>2</th>\n",
              "      <td>28</td>\n",
              "      <td>student</td>\n",
              "      <td>single</td>\n",
              "      <td>tertiary</td>\n",
              "      <td>no</td>\n",
              "      <td>844</td>\n",
              "      <td>no</td>\n",
              "      <td>no</td>\n",
              "      <td>cellular</td>\n",
              "      <td>16</td>\n",
              "      <td>apr</td>\n",
              "      <td>551</td>\n",
              "      <td>2</td>\n",
              "      <td>-1</td>\n",
              "      <td>0</td>\n",
              "      <td>unknown</td>\n",
              "      <td>yes</td>\n",
              "    </tr>\n",
              "    <tr>\n",
              "      <th>3</th>\n",
              "      <td>27</td>\n",
              "      <td>blue-collar</td>\n",
              "      <td>single</td>\n",
              "      <td>secondary</td>\n",
              "      <td>no</td>\n",
              "      <td>535</td>\n",
              "      <td>no</td>\n",
              "      <td>no</td>\n",
              "      <td>cellular</td>\n",
              "      <td>16</td>\n",
              "      <td>aug</td>\n",
              "      <td>265</td>\n",
              "      <td>3</td>\n",
              "      <td>95</td>\n",
              "      <td>4</td>\n",
              "      <td>success</td>\n",
              "      <td>yes</td>\n",
              "    </tr>\n",
              "    <tr>\n",
              "      <th>4</th>\n",
              "      <td>59</td>\n",
              "      <td>retired</td>\n",
              "      <td>married</td>\n",
              "      <td>primary</td>\n",
              "      <td>no</td>\n",
              "      <td>4007</td>\n",
              "      <td>no</td>\n",
              "      <td>no</td>\n",
              "      <td>cellular</td>\n",
              "      <td>26</td>\n",
              "      <td>mar</td>\n",
              "      <td>157</td>\n",
              "      <td>2</td>\n",
              "      <td>116</td>\n",
              "      <td>4</td>\n",
              "      <td>failure</td>\n",
              "      <td>no</td>\n",
              "    </tr>\n",
              "  </tbody>\n",
              "</table>\n",
              "</div>\n",
              "      <button class=\"colab-df-convert\" onclick=\"convertToInteractive('df-21d8509b-c46b-4ad7-b6e6-ad024a632d0b')\"\n",
              "              title=\"Convert this dataframe to an interactive table.\"\n",
              "              style=\"display:none;\">\n",
              "        \n",
              "  <svg xmlns=\"http://www.w3.org/2000/svg\" height=\"24px\"viewBox=\"0 0 24 24\"\n",
              "       width=\"24px\">\n",
              "    <path d=\"M0 0h24v24H0V0z\" fill=\"none\"/>\n",
              "    <path d=\"M18.56 5.44l.94 2.06.94-2.06 2.06-.94-2.06-.94-.94-2.06-.94 2.06-2.06.94zm-11 1L8.5 8.5l.94-2.06 2.06-.94-2.06-.94L8.5 2.5l-.94 2.06-2.06.94zm10 10l.94 2.06.94-2.06 2.06-.94-2.06-.94-.94-2.06-.94 2.06-2.06.94z\"/><path d=\"M17.41 7.96l-1.37-1.37c-.4-.4-.92-.59-1.43-.59-.52 0-1.04.2-1.43.59L10.3 9.45l-7.72 7.72c-.78.78-.78 2.05 0 2.83L4 21.41c.39.39.9.59 1.41.59.51 0 1.02-.2 1.41-.59l7.78-7.78 2.81-2.81c.8-.78.8-2.07 0-2.86zM5.41 20L4 18.59l7.72-7.72 1.47 1.35L5.41 20z\"/>\n",
              "  </svg>\n",
              "      </button>\n",
              "      \n",
              "  <style>\n",
              "    .colab-df-container {\n",
              "      display:flex;\n",
              "      flex-wrap:wrap;\n",
              "      gap: 12px;\n",
              "    }\n",
              "\n",
              "    .colab-df-convert {\n",
              "      background-color: #E8F0FE;\n",
              "      border: none;\n",
              "      border-radius: 50%;\n",
              "      cursor: pointer;\n",
              "      display: none;\n",
              "      fill: #1967D2;\n",
              "      height: 32px;\n",
              "      padding: 0 0 0 0;\n",
              "      width: 32px;\n",
              "    }\n",
              "\n",
              "    .colab-df-convert:hover {\n",
              "      background-color: #E2EBFA;\n",
              "      box-shadow: 0px 1px 2px rgba(60, 64, 67, 0.3), 0px 1px 3px 1px rgba(60, 64, 67, 0.15);\n",
              "      fill: #174EA6;\n",
              "    }\n",
              "\n",
              "    [theme=dark] .colab-df-convert {\n",
              "      background-color: #3B4455;\n",
              "      fill: #D2E3FC;\n",
              "    }\n",
              "\n",
              "    [theme=dark] .colab-df-convert:hover {\n",
              "      background-color: #434B5C;\n",
              "      box-shadow: 0px 1px 3px 1px rgba(0, 0, 0, 0.15);\n",
              "      filter: drop-shadow(0px 1px 2px rgba(0, 0, 0, 0.3));\n",
              "      fill: #FFFFFF;\n",
              "    }\n",
              "  </style>\n",
              "\n",
              "      <script>\n",
              "        const buttonEl =\n",
              "          document.querySelector('#df-21d8509b-c46b-4ad7-b6e6-ad024a632d0b button.colab-df-convert');\n",
              "        buttonEl.style.display =\n",
              "          google.colab.kernel.accessAllowed ? 'block' : 'none';\n",
              "\n",
              "        async function convertToInteractive(key) {\n",
              "          const element = document.querySelector('#df-21d8509b-c46b-4ad7-b6e6-ad024a632d0b');\n",
              "          const dataTable =\n",
              "            await google.colab.kernel.invokeFunction('convertToInteractive',\n",
              "                                                     [key], {});\n",
              "          if (!dataTable) return;\n",
              "\n",
              "          const docLinkHtml = 'Like what you see? Visit the ' +\n",
              "            '<a target=\"_blank\" href=https://colab.research.google.com/notebooks/data_table.ipynb>data table notebook</a>'\n",
              "            + ' to learn more about interactive tables.';\n",
              "          element.innerHTML = '';\n",
              "          dataTable['output_type'] = 'display_data';\n",
              "          await google.colab.output.renderOutput(dataTable, element);\n",
              "          const docLink = document.createElement('div');\n",
              "          docLink.innerHTML = docLinkHtml;\n",
              "          element.appendChild(docLink);\n",
              "        }\n",
              "      </script>\n",
              "    </div>\n",
              "  </div>\n",
              "  "
            ]
          },
          "metadata": {},
          "execution_count": 6
        }
      ],
      "source": [
        "#from doman specific knowledge, we balance data by taking 11162 examples and keep all the 'yes' class label\n",
        "bank_yes = bank_full_df.loc[bank_full_df.y == 'yes']\n",
        "bank_no = bank_full_df.loc[bank_full_df.y == 'no'].sample(n = 11162 - 5289, random_state = 42) #random_strate=const de khi random se ra ket qua giong nhau o moi lan chay, ung voi moi const se ra mot ket qua\n",
        "new_df = shuffle(pd.concat([bank_yes, bank_no]), random_state = 42).reset_index(drop = 1)\n",
        "new_df.head()"
      ]
    },
    {
      "cell_type": "code",
      "source": [
        "Spam_yes = df.loc[df.Spam == '1']\n",
        "Spam_no = df.loc[df.Spam == '0'].sample(n = 11162 - 5289, random_state = 42) #random_strate=const de khi random se ra ket qua giong nhau o moi lan chay, ung voi moi const se ra mot ket qua\n",
        "new_df = shuffle(pd.concat([Spam_yes, Spam_no]), random_state = 42).reset_index(drop = 1)\n",
        "new_df.head()"
      ],
      "metadata": {
        "id": "5w8cwAE7qAPz"
      },
      "execution_count": null,
      "outputs": []
    },
    {
      "cell_type": "code",
      "execution_count": null,
      "metadata": {
        "colab": {
          "base_uri": "https://localhost:8080/"
        },
        "id": "ruWhM2WdPRr9",
        "outputId": "c2d5be08-ac23-4654-92bf-6c415ed82d20"
      },
      "outputs": [
        {
          "output_type": "execute_result",
          "data": {
            "text/plain": [
              "no     5873\n",
              "yes    5289\n",
              "Name: y, dtype: int64"
            ]
          },
          "metadata": {},
          "execution_count": 7
        }
      ],
      "source": [
        "new_df.y.value_counts()"
      ]
    },
    {
      "cell_type": "code",
      "execution_count": null,
      "metadata": {
        "colab": {
          "base_uri": "https://localhost:8080/",
          "height": 390
        },
        "id": "zZ-THts1Pgyq",
        "outputId": "e754c97f-4721-476e-cab3-e666a2e93947"
      },
      "outputs": [
        {
          "output_type": "execute_result",
          "data": {
            "text/plain": [
              "<matplotlib.axes._subplots.AxesSubplot at 0x7f9e429b6b50>"
            ]
          },
          "metadata": {},
          "execution_count": 8
        },
        {
          "output_type": "display_data",
          "data": {
            "text/plain": [
              "<Figure size 720x432 with 1 Axes>"
            ],
            "image/png": "[encoded data removed]"
          },
          "metadata": {}
        }
      ],
      "source": [
        "data = new_df.y.value_counts()\n",
        "data.plot.pie(figsize=(10,6), ylabel = 'result', fontsize = 14, autopct = '%1.2f%%', title = 'deposit', explode = [0, 0.1])"
      ]
    },
    {
      "cell_type": "code",
      "execution_count": null,
      "metadata": {
        "colab": {
          "base_uri": "https://localhost:8080/"
        },
        "id": "buWD1FvIP_zq",
        "outputId": "abcb2bcd-5ab2-439f-a62d-bd82771fffe1"
      },
      "outputs": [
        {
          "output_type": "stream",
          "name": "stdout",
          "text": [
            "<class 'pandas.core.frame.DataFrame'>\n",
            "RangeIndex: 11162 entries, 0 to 11161\n",
            "Data columns (total 17 columns):\n",
            " #   Column     Non-Null Count  Dtype \n",
            "---  ------     --------------  ----- \n",
            " 0   age        11162 non-null  int64 \n",
            " 1   job        11162 non-null  object\n",
            " 2   marital    11162 non-null  object\n",
            " 3   education  11162 non-null  object\n",
            " 4   default    11162 non-null  object\n",
            " 5   balance    11162 non-null  int64 \n",
            " 6   housing    11162 non-null  object\n",
            " 7   loan       11162 non-null  object\n",
            " 8   contact    11162 non-null  object\n",
            " 9   day        11162 non-null  int64 \n",
            " 10  month      11162 non-null  object\n",
            " 11  duration   11162 non-null  int64 \n",
            " 12  campaign   11162 non-null  int64 \n",
            " 13  pdays      11162 non-null  int64 \n",
            " 14  previous   11162 non-null  int64 \n",
            " 15  poutcome   11162 non-null  object\n",
            " 16  y          11162 non-null  object\n",
            "dtypes: int64(7), object(10)\n",
            "memory usage: 1.4+ MB\n"
          ]
        }
      ],
      "source": [
        "new_df.info()"
      ]
    },
    {
      "cell_type": "code",
      "execution_count": null,
      "metadata": {
        "colab": {
          "base_uri": "https://localhost:8080/",
          "height": 1000
        },
        "id": "K5crKPOPRfkh",
        "outputId": "65519985-5fb3-4ece-e739-4afc5ed4de09"
      },
      "outputs": [
        {
          "data": {
            "image/png": "[encoded data removed]",
            "text/plain": [
              "<Figure size 1440x1440 with 9 Axes>"
            ]
          },
          "metadata": {},
          "output_type": "display_data"
        }
      ],
      "source": [
        "#truc quan hoa anh huong moi thuoc tinh den lua chon\n",
        "# categorical attributes\n",
        "categories = ['job', 'marital','education', 'default', 'housing', 'loan', 'contact', 'month', 'poutcome']\n",
        "fig, ax = plt.subplots(figsize = (20,20), ncols=3, nrows = 3)\n",
        "count = 0\n",
        "for col in categories:\n",
        "    g=sns.countplot(x = col, data = new_df, hue = 'y', order = bank_yes[col].value_counts().index, ax = ax[count//3, count%3])\n",
        "    g.set_title(col+' & deposit')\n",
        "    g.set_xlabel(None,fontsize = 9)\n",
        "    if col == 'job':\n",
        "        plt.setp(g.get_xticklabels(), rotation=40)\n",
        "    count+=1"
      ]
    },
    {
      "cell_type": "markdown",
      "metadata": {
        "id": "QXH3I-_oRWbv"
      },
      "source": [
        "\n",
        "\n",
        "```\n",
        "# attributes: categorical and numerical overview\n",
        "```\n",
        "\n"
      ]
    },
    {
      "cell_type": "markdown",
      "metadata": {
        "id": "W9s7byt3-ISj"
      },
      "source": [
        "\n",
        "\n",
        "```\n",
        "> here we see job, education, contact and poutcome have unknown/missing values\n",
        "> with job, education, contact we impute missing values by apply most-frequent strategy\n",
        "> with poutcome since unknown values appears more than 80%, we consider dropping it\n",
        "> other categorical attribute will be convert into numerical by number 1, 2, 3, ... *văn bản in nghiêng*\n",
        "```\n",
        "\n"
      ]
    },
    {
      "cell_type": "code",
      "execution_count": null,
      "metadata": {
        "colab": {
          "base_uri": "https://localhost:8080/",
          "height": 1000
        },
        "id": "hHZ5_XZt-Lvh",
        "outputId": "238c68bf-b3fd-4032-a592-5ab85018f430"
      },
      "outputs": [
        {
          "name": "stdout",
          "output_type": "stream",
          "text": [
            "count          11162\n",
            "unique            12\n",
            "top       management\n",
            "freq            2474\n",
            "Name: job, dtype: object \n",
            "\n",
            "count       11162\n",
            "unique          3\n",
            "top       married\n",
            "freq         6305\n",
            "Name: marital, dtype: object \n",
            "\n",
            "count         11162\n",
            "unique            4\n",
            "top       secondary\n",
            "freq           5530\n",
            "Name: education, dtype: object \n",
            "\n",
            "count     11162\n",
            "unique        2\n",
            "top          no\n",
            "freq      11003\n",
            "Name: default, dtype: object \n",
            "\n",
            "count     11162\n",
            "unique        2\n",
            "top          no\n",
            "freq       5815\n",
            "Name: housing, dtype: object \n",
            "\n",
            "count     11162\n",
            "unique        2\n",
            "top          no\n",
            "freq       9675\n",
            "Name: loan, dtype: object \n",
            "\n",
            "count        11162\n",
            "unique           3\n",
            "top       cellular\n",
            "freq          8015\n",
            "Name: contact, dtype: object \n",
            "\n",
            "count     11162\n",
            "unique       12\n",
            "top         may\n",
            "freq       2825\n",
            "Name: month, dtype: object \n",
            "\n",
            "count       11162\n",
            "unique          4\n",
            "top       unknown\n",
            "freq         8342\n",
            "Name: poutcome, dtype: object \n",
            "\n"
          ]
        },
        {
          "data": {
            "image/png": "[encoded data removed]",
            "text/plain": [
              "<Figure size 1440x1440 with 9 Axes>"
            ]
          },
          "metadata": {},
          "output_type": "display_data"
        }
      ],
      "source": [
        "# numerical attributes\n",
        "numerical = ['job', 'marital','education', 'default', 'housing', 'loan', 'contact', 'month', 'poutcome']\n",
        "#col = {}\n",
        "for col in numerical:\n",
        "    print(new_df[col].describe(),\"\\n\")\n",
        "new_df.drop(columns='y').hist(bins = 20, figsize=(20,20))\n",
        "plt.show()"
      ]
    },
    {
      "cell_type": "code",
      "execution_count": null,
      "metadata": {
        "colab": {
          "base_uri": "https://localhost:8080/",
          "height": 879
        },
        "id": "Rlr40O6x-pbj",
        "outputId": "62cf79e8-724a-4f3c-bfaa-1852c2c1f61c"
      },
      "outputs": [
        {
          "data": {
            "image/png": "[encoded data removed]",
            "text/plain": [
              "<Figure size 1080x1080 with 9 Axes>"
            ]
          },
          "metadata": {},
          "output_type": "display_data"
        }
      ],
      "source": [
        "#su phan bo cua data /boxplot\n",
        "fig, ax = plt.subplots(figsize = (15,15), ncols=3, nrows = 3)\n",
        "count =0\n",
        "for col in ['age', 'balance', 'day', 'duration', 'previous', 'pdays', 'campaign']:\n",
        "    if count < 7:\n",
        "        g=sns.boxplot(x = col, data = new_df, ax = ax[count//3, count%3])\n",
        "        g.set_title(col)\n",
        "        g.set_xlabel(None,fontsize = 9)\n",
        "        count+=1"
      ]
    },
    {
      "cell_type": "code",
      "execution_count": null,
      "metadata": {
        "colab": {
          "base_uri": "https://localhost:8080/"
        },
        "id": "2my7Oz4V_gNC",
        "outputId": "fdfe4067-3fe2-4d53-acd1-bceb758cb9ca"
      },
      "outputs": [
        {
          "name": "stdout",
          "output_type": "stream",
          "text": [
            "age:  126\n",
            "balance:  183\n",
            "day:  0\n",
            "duration:  197\n",
            "previous:  68\n",
            "pdays:  178\n",
            "campaign:  214\n"
          ]
        },
        {
          "data": {
            "text/plain": [
              "762"
            ]
          },
          "execution_count": 13,
          "metadata": {},
          "output_type": "execute_result"
        }
      ],
      "source": [
        "numerical = ['age', 'balance', 'day', 'duration', 'previous', 'pdays', 'campaign']\n",
        "outlier = {}\n",
        "for col in numerical:\n",
        "    outlier[col] = []\n",
        "    data = new_df[col].to_numpy()\n",
        "    mean = new_df[col].mean()\n",
        "    std = new_df[col].std()\n",
        "    count_ouliers = 0\n",
        "    for i in range(len(data)):\n",
        "        z = (data[i]-mean)/std\n",
        "        if z >3 or z<-3:\n",
        "            count_ouliers+=1\n",
        "            outlier[col].append(i)\n",
        "    print(col+': ', count_ouliers)\n",
        "outlier_age = outlier['age']\n",
        "outlier_balance = outlier['balance']\n",
        "outlier_duration = outlier['duration']\n",
        "outlier_previous = outlier['previous']\n",
        "outlier_campaign = outlier['campaign']\n",
        "a=list(set(outlier_balance+outlier_campaign+outlier_previous+outlier_age+outlier_duration))\n",
        "len(a)"
      ]
    },
    {
      "cell_type": "code",
      "execution_count": null,
      "metadata": {
        "colab": {
          "base_uri": "https://localhost:8080/",
          "height": 884
        },
        "id": "h3AQ06K1_p5I",
        "outputId": "3c1c27b1-6dbd-484d-ccc6-7e0c74a0fe00"
      },
      "outputs": [
        {
          "data": {
            "text/plain": [
              "<matplotlib.axes._subplots.AxesSubplot at 0x7f3fa7bbcc50>"
            ]
          },
          "execution_count": 14,
          "metadata": {},
          "output_type": "execute_result"
        },
        {
          "data": {
            "image/png": "[encoded data removed]",
            "text/plain": [
              "<Figure size 1080x1080 with 2 Axes>"
            ]
          },
          "metadata": {},
          "output_type": "display_data"
        }
      ],
      "source": [
        "def tran_y(x):\n",
        "    if x == 'yes':\n",
        "        return 1\n",
        "    if x == 'no':\n",
        "        return 0\n",
        "    else:\n",
        "        return x\n",
        "#correlation matrix: xet tinh tuong quan giua 2 thuoc tinh\n",
        "new_df.y = new_df.y.apply(tran_y)\n",
        "plt.subplots(figsize = (15,15))\n",
        "sns.heatmap(data = new_df.corr(), annot=True)"
      ]
    },
    {
      "cell_type": "markdown",
      "metadata": {
        "id": "hE3LrDQa_4ze"
      },
      "source": [
        "\n",
        "\n",
        "```\n",
        ">pdays and poutcome do not correlate to the outcome much so we can drop those attributes\n",
        "```\n",
        "\n"
      ]
    },
    {
      "cell_type": "markdown",
      "metadata": {
        "id": "TUyaU8mA__ZW"
      },
      "source": [
        "**imputing missing values**"
      ]
    },
    {
      "cell_type": "code",
      "execution_count": null,
      "metadata": {
        "id": "G77smzGVAB9S"
      },
      "outputs": [],
      "source": [
        "from sklearn.impute import SimpleImputer\n",
        "imputer_mode = SimpleImputer(missing_values= 'unknown', strategy= 'most_frequent')"
      ]
    },
    {
      "cell_type": "markdown",
      "metadata": {
        "id": "B5_xG5rvAJJj"
      },
      "source": [
        "**categorical data transformation**"
      ]
    },
    {
      "cell_type": "code",
      "execution_count": null,
      "metadata": {
        "id": "tMaQtbHOAL2C"
      },
      "outputs": [],
      "source": [
        "def tran_job(x):\n",
        "  if x == 'housemaid':\n",
        "    return 1\n",
        "  if x == 'entrepreneur':\n",
        "    return 2\n",
        "  if x == 'self-employed':\n",
        "    return 3\n",
        "  if x == 'unemployed':\n",
        "    return 4\n",
        "  if x == 'student':\n",
        "    return 5\n",
        "  if x == 'services':\n",
        "    return 6\n",
        "  if x == 'retired':\n",
        "    return 7\n",
        "  if x == 'admin.':\n",
        "    return 8\n",
        "  if x == 'blue-collar':\n",
        "    return 9\n",
        "  if x == 'technician':\n",
        "    return 10\n",
        "  if x == 'management':\n",
        "    return 11\n",
        "  else:\n",
        "    return x\n",
        "def tran_marital(x):\n",
        "  if x == 'married':\n",
        "    return 3\n",
        "  if x == 'single':\n",
        "    return 2\n",
        "  if x == 'divorced':\n",
        "    return 1\n",
        "  else:\n",
        "    return x\n",
        "def tran_education(x):\n",
        "  if x == 'secondary':\n",
        "    return 3\n",
        "  if x == 'tertiary':\n",
        "    return 2\n",
        "  if x == 'primary':\n",
        "    return 1\n",
        "  else:\n",
        "    return x\n",
        "def tran_binary_no(x):\n",
        "  if x == 'no':\n",
        "    return 1\n",
        "  if x =='yes':\n",
        "    return 0\n",
        "  else:\n",
        "    return x\n",
        "def tran_contact(x):\n",
        "    if x == 'cellular':\n",
        "        return 1\n",
        "    if x == 'telephone':\n",
        "        return 0\n",
        "    else:\n",
        "        return x\n",
        "def tran_month(x):\n",
        "    if x == 'dec':\n",
        "        return 1\n",
        "    if x == 'jan':\n",
        "        return 2\n",
        "    if x == 'mar':\n",
        "        return 3\n",
        "    if x == 'sep':\n",
        "        return 4\n",
        "    if x == 'oct':\n",
        "        return 5\n",
        "    if x == 'nov':\n",
        "        return 6\n",
        "    if x == 'feb':\n",
        "        return 7\n",
        "    if x == 'jun':\n",
        "        return 8\n",
        "    if x == 'apr':\n",
        "        return 9\n",
        "    if x == 'jul':\n",
        "        return 10\n",
        "    if x == 'aug':\n",
        "        return 11\n",
        "    if x == 'may':\n",
        "        return 12\n",
        "def tran_y(x):\n",
        "    if x == 'yes':\n",
        "        return 1\n",
        "    if x == 'no':\n",
        "        return 0\n",
        "    else:\n",
        "        return x"
      ]
    },
    {
      "cell_type": "markdown",
      "metadata": {
        "id": "aqUQM3UEAUF0"
      },
      "source": [
        "**group age, duration and remove outliers from balance, campaign, previous**"
      ]
    },
    {
      "cell_type": "code",
      "execution_count": null,
      "metadata": {
        "id": "uPZ_8JMZAWZL"
      },
      "outputs": [],
      "source": [
        "def duration_group( x):\n",
        "    if x <= 102:\n",
        "        return 1\n",
        "    elif x<= 180:\n",
        "        return 2\n",
        "    elif x <= 319:\n",
        "        return 3\n",
        "    elif x<= 644.5:\n",
        "        return 4\n",
        "    else:\n",
        "        return 5\n",
        "def age_group(x):\n",
        "    if x <= 32:\n",
        "        return 1\n",
        "    elif x <= 47:\n",
        "        return 2\n",
        "    elif x <= 70:\n",
        "        return 3\n",
        "    else:\n",
        "        return 4\n",
        "def remove_outliers(data):\n",
        "    new = data.copy()\n",
        "    numerical = ['balance', 'previous', 'campaign', 'age', 'duration']\n",
        "    outlier = {}\n",
        "    for col in numerical:\n",
        "        outlier[col] = []\n",
        "        data = new_df[col].to_numpy()\n",
        "        mean = new_df[col].mean()\n",
        "        std = new_df[col].std()\n",
        "        count_ouliers = 0\n",
        "        for i in range(len(data)):\n",
        "            z = (data[i]-mean)/std\n",
        "            if z >3 or z<-3:\n",
        "                count_ouliers+=1\n",
        "                outlier[col].append(i)\n",
        "    o = list(set(outlier['balance']+outlier['previous']+outlier['campaign']+outlier['age'] + outlier['duration']))\n",
        "    new.drop(new.index[o], inplace = True) #bo ca hang\n",
        "    return new\n",
        ""
      ]
    },
    {
      "cell_type": "markdown",
      "metadata": {
        "id": "rpgz29FjAc4l"
      },
      "source": [
        "**transform the dataset and normalize data**"
      ]
    },
    {
      "cell_type": "code",
      "execution_count": null,
      "metadata": {
        "id": "fmUzq5M5AlFB"
      },
      "outputs": [],
      "source": [
        "from sklearn.preprocessing import StandardScaler\n",
        "def preprocessing(dataframe):\n",
        "    copy_df = dataframe.copy()\n",
        "    columns = copy_df.columns\n",
        "    imputer_mode = SimpleImputer(missing_values= 'unknown', strategy= 'most_frequent')\n",
        "    copy_df = imputer_mode.fit_transform(copy_df)\n",
        "    copy_df = pd.DataFrame(copy_df, columns = columns)\n",
        "    copy_df.job = copy_df.job.apply(tran_job)\n",
        "    copy_df.marital = copy_df.marital.apply(tran_marital)\n",
        "    copy_df.education = copy_df.education.apply(tran_education)\n",
        "    copy_df.default = copy_df.default.apply(tran_binary_no)\n",
        "    copy_df.housing = copy_df.housing.apply(tran_binary_no)\n",
        "    copy_df.loan = copy_df.loan.apply(tran_binary_no)\n",
        "    copy_df.contact = copy_df.contact.apply(tran_contact)\n",
        "    copy_df.month = copy_df.month.apply(tran_month)\n",
        "    copy_df = copy_df.drop(columns = ['poutcome', 'pdays'])\n",
        "    copy_df.age = copy_df.age.apply(age_group)\n",
        "    copy_df.duration = copy_df.duration.apply(duration_group)\n",
        "    copy_df.y = copy_df.y.apply(tran_y)\n",
        "    copy_df = remove_outliers(copy_df).reset_index(drop = 1)\n",
        "\n",
        "    feature = []\n",
        "    for i in columns:\n",
        "        if i not in ['y', 'poutcome', 'pdays']:\n",
        "            feature.append(i)\n",
        "    scaler = StandardScaler()\n",
        "    X = scaler.fit_transform(copy_df.drop(columns = 'y'))\n",
        "    y = copy_df.y\n",
        "    X = pd.DataFrame(X, columns = feature);\n",
        "    copy_df = pd.concat([X, y], axis= 1)\n",
        "\n",
        "    return copy_df"
      ]
    },
    {
      "cell_type": "code",
      "execution_count": null,
      "metadata": {
        "colab": {
          "base_uri": "https://localhost:8080/",
          "height": 206
        },
        "id": "KnpC0mOoAn1_",
        "outputId": "ab97440a-a472-400c-a03b-65f6c35a3eff"
      },
      "outputs": [
        {
          "data": {
            "text/html": [
              "\n",
              "  <div id=\"df-52028581-cce8-4311-9bfb-4086fdaadfda\">\n",
              "    <div class=\"colab-df-container\">\n",
              "      <div>\n",
              "<style scoped>\n",
              "    .dataframe tbody tr th:only-of-type {\n",
              "        vertical-align: middle;\n",
              "    }\n",
              "\n",
              "    .dataframe tbody tr th {\n",
              "        vertical-align: top;\n",
              "    }\n",
              "\n",
              "    .dataframe thead th {\n",
              "        text-align: right;\n",
              "    }\n",
              "</style>\n",
              "<table border=\"1\" class=\"dataframe\">\n",
              "  <thead>\n",
              "    <tr style=\"text-align: right;\">\n",
              "      <th></th>\n",
              "      <th>age</th>\n",
              "      <th>job</th>\n",
              "      <th>marital</th>\n",
              "      <th>education</th>\n",
              "      <th>default</th>\n",
              "      <th>balance</th>\n",
              "      <th>housing</th>\n",
              "      <th>loan</th>\n",
              "      <th>contact</th>\n",
              "      <th>day</th>\n",
              "      <th>month</th>\n",
              "      <th>duration</th>\n",
              "      <th>campaign</th>\n",
              "      <th>previous</th>\n",
              "      <th>y</th>\n",
              "    </tr>\n",
              "  </thead>\n",
              "  <tbody>\n",
              "    <tr>\n",
              "      <th>0</th>\n",
              "      <td>-1.311437</td>\n",
              "      <td>0.290607</td>\n",
              "      <td>0.797595</td>\n",
              "      <td>0.826194</td>\n",
              "      <td>0.123001</td>\n",
              "      <td>2.150921</td>\n",
              "      <td>0.96392</td>\n",
              "      <td>0.393102</td>\n",
              "      <td>0.255861</td>\n",
              "      <td>0.665539</td>\n",
              "      <td>-1.025291</td>\n",
              "      <td>-0.033253</td>\n",
              "      <td>-0.738756</td>\n",
              "      <td>-0.435979</td>\n",
              "      <td>0</td>\n",
              "    </tr>\n",
              "    <tr>\n",
              "      <th>1</th>\n",
              "      <td>1.303893</td>\n",
              "      <td>1.034836</td>\n",
              "      <td>0.797595</td>\n",
              "      <td>-1.984540</td>\n",
              "      <td>0.123001</td>\n",
              "      <td>-0.197078</td>\n",
              "      <td>0.96392</td>\n",
              "      <td>0.393102</td>\n",
              "      <td>0.255861</td>\n",
              "      <td>-0.168820</td>\n",
              "      <td>1.045869</td>\n",
              "      <td>-0.033253</td>\n",
              "      <td>-0.738756</td>\n",
              "      <td>0.162119</td>\n",
              "      <td>1</td>\n",
              "    </tr>\n",
              "    <tr>\n",
              "      <th>2</th>\n",
              "      <td>-1.311437</td>\n",
              "      <td>-1.197850</td>\n",
              "      <td>-0.653593</td>\n",
              "      <td>-0.579173</td>\n",
              "      <td>0.123001</td>\n",
              "      <td>-0.211295</td>\n",
              "      <td>0.96392</td>\n",
              "      <td>0.393102</td>\n",
              "      <td>0.255861</td>\n",
              "      <td>0.069568</td>\n",
              "      <td>0.010289</td>\n",
              "      <td>0.738690</td>\n",
              "      <td>-0.143816</td>\n",
              "      <td>-0.435979</td>\n",
              "      <td>1</td>\n",
              "    </tr>\n",
              "    <tr>\n",
              "      <th>3</th>\n",
              "      <td>-1.311437</td>\n",
              "      <td>0.290607</td>\n",
              "      <td>-0.653593</td>\n",
              "      <td>0.826194</td>\n",
              "      <td>0.123001</td>\n",
              "      <td>-0.380260</td>\n",
              "      <td>0.96392</td>\n",
              "      <td>0.393102</td>\n",
              "      <td>0.255861</td>\n",
              "      <td>0.069568</td>\n",
              "      <td>0.700676</td>\n",
              "      <td>-0.033253</td>\n",
              "      <td>0.451125</td>\n",
              "      <td>1.956414</td>\n",
              "      <td>1</td>\n",
              "    </tr>\n",
              "    <tr>\n",
              "      <th>4</th>\n",
              "      <td>1.303893</td>\n",
              "      <td>-0.453622</td>\n",
              "      <td>0.797595</td>\n",
              "      <td>-1.984540</td>\n",
              "      <td>0.123001</td>\n",
              "      <td>1.518262</td>\n",
              "      <td>0.96392</td>\n",
              "      <td>0.393102</td>\n",
              "      <td>0.255861</td>\n",
              "      <td>1.261509</td>\n",
              "      <td>-2.060871</td>\n",
              "      <td>-0.805196</td>\n",
              "      <td>-0.143816</td>\n",
              "      <td>1.956414</td>\n",
              "      <td>0</td>\n",
              "    </tr>\n",
              "  </tbody>\n",
              "</table>\n",
              "</div>\n",
              "      <button class=\"colab-df-convert\" onclick=\"convertToInteractive('df-52028581-cce8-4311-9bfb-4086fdaadfda')\"\n",
              "              title=\"Convert this dataframe to an interactive table.\"\n",
              "              style=\"display:none;\">\n",
              "        \n",
              "  <svg xmlns=\"http://www.w3.org/2000/svg\" height=\"24px\"viewBox=\"0 0 24 24\"\n",
              "       width=\"24px\">\n",
              "    <path d=\"M0 0h24v24H0V0z\" fill=\"none\"/>\n",
              "    <path d=\"M18.56 5.44l.94 2.06.94-2.06 2.06-.94-2.06-.94-.94-2.06-.94 2.06-2.06.94zm-11 1L8.5 8.5l.94-2.06 2.06-.94-2.06-.94L8.5 2.5l-.94 2.06-2.06.94zm10 10l.94 2.06.94-2.06 2.06-.94-2.06-.94-.94-2.06-.94 2.06-2.06.94z\"/><path d=\"M17.41 7.96l-1.37-1.37c-.4-.4-.92-.59-1.43-.59-.52 0-1.04.2-1.43.59L10.3 9.45l-7.72 7.72c-.78.78-.78 2.05 0 2.83L4 21.41c.39.39.9.59 1.41.59.51 0 1.02-.2 1.41-.59l7.78-7.78 2.81-2.81c.8-.78.8-2.07 0-2.86zM5.41 20L4 18.59l7.72-7.72 1.47 1.35L5.41 20z\"/>\n",
              "  </svg>\n",
              "      </button>\n",
              "      \n",
              "  <style>\n",
              "    .colab-df-container {\n",
              "      display:flex;\n",
              "      flex-wrap:wrap;\n",
              "      gap: 12px;\n",
              "    }\n",
              "\n",
              "    .colab-df-convert {\n",
              "      background-color: #E8F0FE;\n",
              "      border: none;\n",
              "      border-radius: 50%;\n",
              "      cursor: pointer;\n",
              "      display: none;\n",
              "      fill: #1967D2;\n",
              "      height: 32px;\n",
              "      padding: 0 0 0 0;\n",
              "      width: 32px;\n",
              "    }\n",
              "\n",
              "    .colab-df-convert:hover {\n",
              "      background-color: #E2EBFA;\n",
              "      box-shadow: 0px 1px 2px rgba(60, 64, 67, 0.3), 0px 1px 3px 1px rgba(60, 64, 67, 0.15);\n",
              "      fill: #174EA6;\n",
              "    }\n",
              "\n",
              "    [theme=dark] .colab-df-convert {\n",
              "      background-color: #3B4455;\n",
              "      fill: #D2E3FC;\n",
              "    }\n",
              "\n",
              "    [theme=dark] .colab-df-convert:hover {\n",
              "      background-color: #434B5C;\n",
              "      box-shadow: 0px 1px 3px 1px rgba(0, 0, 0, 0.15);\n",
              "      filter: drop-shadow(0px 1px 2px rgba(0, 0, 0, 0.3));\n",
              "      fill: #FFFFFF;\n",
              "    }\n",
              "  </style>\n",
              "\n",
              "      <script>\n",
              "        const buttonEl =\n",
              "          document.querySelector('#df-52028581-cce8-4311-9bfb-4086fdaadfda button.colab-df-convert');\n",
              "        buttonEl.style.display =\n",
              "          google.colab.kernel.accessAllowed ? 'block' : 'none';\n",
              "\n",
              "        async function convertToInteractive(key) {\n",
              "          const element = document.querySelector('#df-52028581-cce8-4311-9bfb-4086fdaadfda');\n",
              "          const dataTable =\n",
              "            await google.colab.kernel.invokeFunction('convertToInteractive',\n",
              "                                                     [key], {});\n",
              "          if (!dataTable) return;\n",
              "\n",
              "          const docLinkHtml = 'Like what you see? Visit the ' +\n",
              "            '<a target=\"_blank\" href=https://colab.research.google.com/notebooks/data_table.ipynb>data table notebook</a>'\n",
              "            + ' to learn more about interactive tables.';\n",
              "          element.innerHTML = '';\n",
              "          dataTable['output_type'] = 'display_data';\n",
              "          await google.colab.output.renderOutput(dataTable, element);\n",
              "          const docLink = document.createElement('div');\n",
              "          docLink.innerHTML = docLinkHtml;\n",
              "          element.appendChild(docLink);\n",
              "        }\n",
              "      </script>\n",
              "    </div>\n",
              "  </div>\n",
              "  "
            ],
            "text/plain": [
              "        age       job   marital  education   default   balance  housing  \\\n",
              "0 -1.311437  0.290607  0.797595   0.826194  0.123001  2.150921  0.96392   \n",
              "1  1.303893  1.034836  0.797595  -1.984540  0.123001 -0.197078  0.96392   \n",
              "2 -1.311437 -1.197850 -0.653593  -0.579173  0.123001 -0.211295  0.96392   \n",
              "3 -1.311437  0.290607 -0.653593   0.826194  0.123001 -0.380260  0.96392   \n",
              "4  1.303893 -0.453622  0.797595  -1.984540  0.123001  1.518262  0.96392   \n",
              "\n",
              "       loan   contact       day     month  duration  campaign  previous  y  \n",
              "0  0.393102  0.255861  0.665539 -1.025291 -0.033253 -0.738756 -0.435979  0  \n",
              "1  0.393102  0.255861 -0.168820  1.045869 -0.033253 -0.738756  0.162119  1  \n",
              "2  0.393102  0.255861  0.069568  0.010289  0.738690 -0.143816 -0.435979  1  \n",
              "3  0.393102  0.255861  0.069568  0.700676 -0.033253  0.451125  1.956414  1  \n",
              "4  0.393102  0.255861  1.261509 -2.060871 -0.805196 -0.143816  1.956414  0  "
            ]
          },
          "execution_count": 22,
          "metadata": {},
          "output_type": "execute_result"
        }
      ],
      "source": [
        "input_df = preprocessing(new_df)\n",
        "input_df.to_csv(r'encoded_data.csv', index = False, header=True)\n",
        "input_df.head()"
      ]
    },
    {
      "cell_type": "code",
      "execution_count": null,
      "metadata": {
        "id": "dit67AvCAqBL"
      },
      "outputs": [],
      "source": [
        "preprocessing(bank_full_df).to_csv(r'/content/drive/MyDrive/AI report/bank-full-encoded.csv', index = False, header=True)"
      ]
    },
    {
      "cell_type": "markdown",
      "metadata": {
        "id": "yz57XrSHIB2D"
      },
      "source": [
        "# Training_models"
      ]
    },
    {
      "cell_type": "code",
      "execution_count": null,
      "metadata": {
        "id": "RqRReipoIE9W"
      },
      "outputs": [],
      "source": [
        "import warnings\n",
        "warnings.filterwarnings('ignore')"
      ]
    },
    {
      "cell_type": "code",
      "execution_count": null,
      "metadata": {
        "colab": {
          "base_uri": "https://localhost:8080/",
          "height": 206
        },
        "id": "k9volz2EINws",
        "outputId": "47fa9793-7480-4d27-b3d1-d148b4014a58"
      },
      "outputs": [
        {
          "data": {
            "text/html": [
              "\n",
              "  <div id=\"df-ab0d1168-aa46-4b88-aeab-9e20ec21348d\">\n",
              "    <div class=\"colab-df-container\">\n",
              "      <div>\n",
              "<style scoped>\n",
              "    .dataframe tbody tr th:only-of-type {\n",
              "        vertical-align: middle;\n",
              "    }\n",
              "\n",
              "    .dataframe tbody tr th {\n",
              "        vertical-align: top;\n",
              "    }\n",
              "\n",
              "    .dataframe thead th {\n",
              "        text-align: right;\n",
              "    }\n",
              "</style>\n",
              "<table border=\"1\" class=\"dataframe\">\n",
              "  <thead>\n",
              "    <tr style=\"text-align: right;\">\n",
              "      <th></th>\n",
              "      <th>age</th>\n",
              "      <th>job</th>\n",
              "      <th>marital</th>\n",
              "      <th>education</th>\n",
              "      <th>default</th>\n",
              "      <th>balance</th>\n",
              "      <th>housing</th>\n",
              "      <th>loan</th>\n",
              "      <th>contact</th>\n",
              "      <th>day</th>\n",
              "      <th>month</th>\n",
              "      <th>duration</th>\n",
              "      <th>campaign</th>\n",
              "      <th>previous</th>\n",
              "      <th>y</th>\n",
              "    </tr>\n",
              "  </thead>\n",
              "  <tbody>\n",
              "    <tr>\n",
              "      <th>0</th>\n",
              "      <td>-1.301389</td>\n",
              "      <td>0.297024</td>\n",
              "      <td>0.795821</td>\n",
              "      <td>0.829740</td>\n",
              "      <td>0.121618</td>\n",
              "      <td>2.128586</td>\n",
              "      <td>0.958176</td>\n",
              "      <td>0.391587</td>\n",
              "      <td>0.268956</td>\n",
              "      <td>0.664024</td>\n",
              "      <td>-1.009095</td>\n",
              "      <td>-0.061882</td>\n",
              "      <td>-0.739070</td>\n",
              "      <td>-0.435481</td>\n",
              "      <td>0</td>\n",
              "    </tr>\n",
              "    <tr>\n",
              "      <th>1</th>\n",
              "      <td>1.238503</td>\n",
              "      <td>1.043018</td>\n",
              "      <td>0.795821</td>\n",
              "      <td>-1.959428</td>\n",
              "      <td>0.121618</td>\n",
              "      <td>-0.202594</td>\n",
              "      <td>0.958176</td>\n",
              "      <td>0.391587</td>\n",
              "      <td>0.268956</td>\n",
              "      <td>-0.171131</td>\n",
              "      <td>1.050860</td>\n",
              "      <td>-0.061882</td>\n",
              "      <td>-0.739070</td>\n",
              "      <td>0.162307</td>\n",
              "      <td>1</td>\n",
              "    </tr>\n",
              "    <tr>\n",
              "      <th>2</th>\n",
              "      <td>-1.301389</td>\n",
              "      <td>-1.194962</td>\n",
              "      <td>-0.648342</td>\n",
              "      <td>-0.564844</td>\n",
              "      <td>0.121618</td>\n",
              "      <td>-0.216709</td>\n",
              "      <td>0.958176</td>\n",
              "      <td>0.391587</td>\n",
              "      <td>0.268956</td>\n",
              "      <td>0.067485</td>\n",
              "      <td>0.020882</td>\n",
              "      <td>0.702925</td>\n",
              "      <td>-0.144045</td>\n",
              "      <td>-0.435481</td>\n",
              "      <td>1</td>\n",
              "    </tr>\n",
              "    <tr>\n",
              "      <th>3</th>\n",
              "      <td>-1.301389</td>\n",
              "      <td>0.297024</td>\n",
              "      <td>-0.648342</td>\n",
              "      <td>0.829740</td>\n",
              "      <td>0.121618</td>\n",
              "      <td>-0.384463</td>\n",
              "      <td>0.958176</td>\n",
              "      <td>0.391587</td>\n",
              "      <td>0.268956</td>\n",
              "      <td>0.067485</td>\n",
              "      <td>0.707534</td>\n",
              "      <td>-0.061882</td>\n",
              "      <td>0.450981</td>\n",
              "      <td>1.955671</td>\n",
              "      <td>1</td>\n",
              "    </tr>\n",
              "    <tr>\n",
              "      <th>4</th>\n",
              "      <td>1.238503</td>\n",
              "      <td>-0.448969</td>\n",
              "      <td>0.795821</td>\n",
              "      <td>-1.959428</td>\n",
              "      <td>0.121618</td>\n",
              "      <td>1.500459</td>\n",
              "      <td>0.958176</td>\n",
              "      <td>0.391587</td>\n",
              "      <td>0.268956</td>\n",
              "      <td>1.260563</td>\n",
              "      <td>-2.039073</td>\n",
              "      <td>-0.826689</td>\n",
              "      <td>-0.144045</td>\n",
              "      <td>1.955671</td>\n",
              "      <td>0</td>\n",
              "    </tr>\n",
              "  </tbody>\n",
              "</table>\n",
              "</div>\n",
              "      <button class=\"colab-df-convert\" onclick=\"convertToInteractive('df-ab0d1168-aa46-4b88-aeab-9e20ec21348d')\"\n",
              "              title=\"Convert this dataframe to an interactive table.\"\n",
              "              style=\"display:none;\">\n",
              "        \n",
              "  <svg xmlns=\"http://www.w3.org/2000/svg\" height=\"24px\"viewBox=\"0 0 24 24\"\n",
              "       width=\"24px\">\n",
              "    <path d=\"M0 0h24v24H0V0z\" fill=\"none\"/>\n",
              "    <path d=\"M18.56 5.44l.94 2.06.94-2.06 2.06-.94-2.06-.94-.94-2.06-.94 2.06-2.06.94zm-11 1L8.5 8.5l.94-2.06 2.06-.94-2.06-.94L8.5 2.5l-.94 2.06-2.06.94zm10 10l.94 2.06.94-2.06 2.06-.94-2.06-.94-.94-2.06-.94 2.06-2.06.94z\"/><path d=\"M17.41 7.96l-1.37-1.37c-.4-.4-.92-.59-1.43-.59-.52 0-1.04.2-1.43.59L10.3 9.45l-7.72 7.72c-.78.78-.78 2.05 0 2.83L4 21.41c.39.39.9.59 1.41.59.51 0 1.02-.2 1.41-.59l7.78-7.78 2.81-2.81c.8-.78.8-2.07 0-2.86zM5.41 20L4 18.59l7.72-7.72 1.47 1.35L5.41 20z\"/>\n",
              "  </svg>\n",
              "      </button>\n",
              "      \n",
              "  <style>\n",
              "    .colab-df-container {\n",
              "      display:flex;\n",
              "      flex-wrap:wrap;\n",
              "      gap: 12px;\n",
              "    }\n",
              "\n",
              "    .colab-df-convert {\n",
              "      background-color: #E8F0FE;\n",
              "      border: none;\n",
              "      border-radius: 50%;\n",
              "      cursor: pointer;\n",
              "      display: none;\n",
              "      fill: #1967D2;\n",
              "      height: 32px;\n",
              "      padding: 0 0 0 0;\n",
              "      width: 32px;\n",
              "    }\n",
              "\n",
              "    .colab-df-convert:hover {\n",
              "      background-color: #E2EBFA;\n",
              "      box-shadow: 0px 1px 2px rgba(60, 64, 67, 0.3), 0px 1px 3px 1px rgba(60, 64, 67, 0.15);\n",
              "      fill: #174EA6;\n",
              "    }\n",
              "\n",
              "    [theme=dark] .colab-df-convert {\n",
              "      background-color: #3B4455;\n",
              "      fill: #D2E3FC;\n",
              "    }\n",
              "\n",
              "    [theme=dark] .colab-df-convert:hover {\n",
              "      background-color: #434B5C;\n",
              "      box-shadow: 0px 1px 3px 1px rgba(0, 0, 0, 0.15);\n",
              "      filter: drop-shadow(0px 1px 2px rgba(0, 0, 0, 0.3));\n",
              "      fill: #FFFFFF;\n",
              "    }\n",
              "  </style>\n",
              "\n",
              "      <script>\n",
              "        const buttonEl =\n",
              "          document.querySelector('#df-ab0d1168-aa46-4b88-aeab-9e20ec21348d button.colab-df-convert');\n",
              "        buttonEl.style.display =\n",
              "          google.colab.kernel.accessAllowed ? 'block' : 'none';\n",
              "\n",
              "        async function convertToInteractive(key) {\n",
              "          const element = document.querySelector('#df-ab0d1168-aa46-4b88-aeab-9e20ec21348d');\n",
              "          const dataTable =\n",
              "            await google.colab.kernel.invokeFunction('convertToInteractive',\n",
              "                                                     [key], {});\n",
              "          if (!dataTable) return;\n",
              "\n",
              "          const docLinkHtml = 'Like what you see? Visit the ' +\n",
              "            '<a target=\"_blank\" href=https://colab.research.google.com/notebooks/data_table.ipynb>data table notebook</a>'\n",
              "            + ' to learn more about interactive tables.';\n",
              "          element.innerHTML = '';\n",
              "          dataTable['output_type'] = 'display_data';\n",
              "          await google.colab.output.renderOutput(dataTable, element);\n",
              "          const docLink = document.createElement('div');\n",
              "          docLink.innerHTML = docLinkHtml;\n",
              "          element.appendChild(docLink);\n",
              "        }\n",
              "      </script>\n",
              "    </div>\n",
              "  </div>\n",
              "  "
            ],
            "text/plain": [
              "        age       job   marital  education   default   balance   housing  \\\n",
              "0 -1.301389  0.297024  0.795821   0.829740  0.121618  2.128586  0.958176   \n",
              "1  1.238503  1.043018  0.795821  -1.959428  0.121618 -0.202594  0.958176   \n",
              "2 -1.301389 -1.194962 -0.648342  -0.564844  0.121618 -0.216709  0.958176   \n",
              "3 -1.301389  0.297024 -0.648342   0.829740  0.121618 -0.384463  0.958176   \n",
              "4  1.238503 -0.448969  0.795821  -1.959428  0.121618  1.500459  0.958176   \n",
              "\n",
              "       loan   contact       day     month  duration  campaign  previous  y  \n",
              "0  0.391587  0.268956  0.664024 -1.009095 -0.061882 -0.739070 -0.435481  0  \n",
              "1  0.391587  0.268956 -0.171131  1.050860 -0.061882 -0.739070  0.162307  1  \n",
              "2  0.391587  0.268956  0.067485  0.020882  0.702925 -0.144045 -0.435481  1  \n",
              "3  0.391587  0.268956  0.067485  0.707534 -0.061882  0.450981  1.955671  1  \n",
              "4  0.391587  0.268956  1.260563 -2.039073 -0.826689 -0.144045  1.955671  0  "
            ]
          },
          "execution_count": 6,
          "metadata": {},
          "output_type": "execute_result"
        }
      ],
      "source": [
        "import numpy as np\n",
        "import pandas as pd\n",
        "import matplotlib.pyplot as plt\n",
        "import seaborn as sns\n",
        "from sklearn.model_selection import train_test_split\n",
        "\n",
        "df = pd.read_csv(r'/content/drive/MyDrive/AI report/encoded_data.csv', encoding='Latin-1')\n",
        "df.head()"
      ]
    },
    {
      "cell_type": "code",
      "execution_count": null,
      "metadata": {
        "id": "790WG33wI2nH"
      },
      "outputs": [],
      "source": [
        "\n",
        "from sklearn.model_selection import StratifiedShuffleSplit\n",
        "# Here we split the data into training and test sets and implement a stratified shuffle split.\n",
        "stratified = StratifiedShuffleSplit(n_splits=1, test_size=0.2, random_state=42)\n",
        "X = df.drop(columns='y')\n",
        "y = df.y\n",
        "\n",
        "for train_set, test_set in stratified.split(X, X[\"loan\"]):\n",
        "    stratified_train = X.loc[train_set]\n",
        "    stratified_test = X.loc[test_set]\n",
        "#chuan hoa ve 0-1\n",
        "stratified_train[\"loan\"].value_counts()/len(stratified_train)\n",
        "stratified_train.reset_index(drop = 1)\n",
        "y_train = y[stratified_train.index]\n",
        "y_test = y[stratified_test.index]\n",
        "\n",
        "train = pd.concat([stratified_train, y_train], axis= 1)\n",
        "test = pd.concat([stratified_test, y_test], axis= 1)"
      ]
    },
    {
      "cell_type": "code",
      "execution_count": null,
      "metadata": {
        "id": "C8kkocEAI7kO"
      },
      "outputs": [],
      "source": [
        "train.to_csv(r'/content/drive/MyDrive/AI report/train_set.csv', index = False, header = True)\n",
        "test.to_csv(r'/content/drive/MyDrive/AI report/test_set.csv', index = False, header = True)"
      ]
    },
    {
      "cell_type": "code",
      "execution_count": null,
      "metadata": {
        "id": "4t72dIQRJCCY"
      },
      "outputs": [],
      "source": [
        "X = df.drop(columns='y') #bo cot y\n",
        "y = df.y"
      ]
    },
    {
      "cell_type": "code",
      "execution_count": null,
      "metadata": {
        "id": "uKsk6fMGJDjh"
      },
      "outputs": [],
      "source": [
        "bank_full = pd.read_csv(r'/content/drive/MyDrive/AI report/bank-full-encoded.csv', encoding= 'Latin-1')\n",
        "X_imb = bank_full.drop(columns = 'y')\n",
        "y_imb = bank_full.y\n",
        "\n",
        "X_train_imb, X_test_imb, y_train_imb, y_test_imb = train_test_split(X_imb, y_imb, test_size = 0.2, random_state = 42)"
      ]
    },
    {
      "cell_type": "code",
      "execution_count": null,
      "metadata": {
        "id": "vqSUhrnzJJKC"
      },
      "outputs": [],
      "source": [
        "train_set_imb = pd.concat([X_train_imb, y_train_imb], axis=1)\n",
        "test_set_imb = pd.concat([X_test_imb, y_test_imb], axis = 1)\n",
        "train_set_imb.to_csv(r'/content/drive/MyDrive/AI report/train_set_imb.csv', index = False, header = True)\n",
        "test_set_imb.to_csv(r'/content/drive/MyDrive/AI report/test_set_imb.csv', index = False, header = True)"
      ]
    },
    {
      "cell_type": "markdown",
      "metadata": {
        "id": "CN7-Wwa-JPpG"
      },
      "source": [
        "**KNN model**"
      ]
    },
    {
      "cell_type": "code",
      "execution_count": null,
      "metadata": {
        "colab": {
          "base_uri": "https://localhost:8080/",
          "height": 351
        },
        "id": "s6pKICCjJUmN",
        "outputId": "7f779539-c199-44f5-e320-110eee37045f"
      },
      "outputs": [
        {
          "data": {
            "image/png": "[encoded data removed]",
            "text/plain": [
              "<Figure size 720x360 with 1 Axes>"
            ]
          },
          "metadata": {},
          "output_type": "display_data"
        }
      ],
      "source": [
        "from sklearn.neighbors import KNeighborsClassifier\n",
        "from sklearn.metrics import f1_score, accuracy_score\n",
        "from sklearn.model_selection import cross_val_score\n",
        "from sklearn.model_selection import StratifiedKFold\n",
        "val_accuracy = []\n",
        "val_f1 = []\n",
        "k_neighbors = []\n",
        "for k in range(1,30,2):\n",
        "    model = KNeighborsClassifier(n_neighbors=k, weights='uniform', p = 1)\n",
        "    kf = StratifiedKFold(n_splits=10, shuffle = True, random_state=1)\n",
        "    val_accuracy.append(cross_val_score(model, X, y, scoring= 'accuracy', cv = kf).mean())\n",
        "    val_f1.append(cross_val_score(model, X, y, scoring= 'f1_macro', cv = kf).mean())\n",
        "    k_neighbors.append(k)\n",
        "\n",
        "plt.subplots(figsize = (10,5))\n",
        "plt.plot(k_neighbors, val_accuracy,'-ok', label = 'validation_accuracy', color = 'orange')\n",
        "plt.plot(k_neighbors, val_f1,'-ok', label = 'validation_f1', color = 'red')\n",
        "plt.title('Accuracy')\n",
        "plt.xlabel(\"k_neighbors\")\n",
        "plt.ylabel(\"values\")\n",
        "plt.xticks(k_neighbors)\n",
        "plt.legend()\n",
        "plt.show()"
      ]
    },
    {
      "cell_type": "code",
      "execution_count": null,
      "metadata": {
        "id": "LvqukwYcJX5M"
      },
      "outputs": [],
      "source": [
        "import pickle\n",
        "model = KNeighborsClassifier(n_neighbors= 15, weights= 'uniform', p = 1)\n",
        "model.fit(stratified_train, y_train)\n",
        "filename = r'/content/drive/MyDrive/AI report/knn_model.sav'\n",
        "pickle.dump(model, open(filename,'wb'))"
      ]
    },
    {
      "cell_type": "code",
      "execution_count": null,
      "metadata": {
        "id": "HycSCb-2Jab7"
      },
      "outputs": [],
      "source": [
        "model_imb = KNeighborsClassifier(n_neighbors=15, weights='uniform', p = 1)\n",
        "model_imb.fit(X_train_imb, y_train_imb)\n",
        "pickle.dump(model_imb, open(r'/content/drive/MyDrive/AI report/knn_model_imb.sav', 'wb'))"
      ]
    },
    {
      "cell_type": "markdown",
      "metadata": {
        "id": "FC7VACc1OGZ3"
      },
      "source": [
        "**SVM Model**"
      ]
    },
    {
      "cell_type": "code",
      "execution_count": null,
      "metadata": {
        "colab": {
          "base_uri": "https://localhost:8080/"
        },
        "id": "brfxmB6L58Uf",
        "outputId": "07006d33-cf49-4073-c52f-6f0fc69977bd"
      },
      "outputs": [
        {
          "data": {
            "text/plain": [
              "SVC()"
            ]
          },
          "execution_count": 36,
          "metadata": {},
          "output_type": "execute_result"
        }
      ],
      "source": [
        "from sklearn import svm\n",
        "clf = svm.SVC()\n",
        "clf.fit(X, y)"
      ]
    },
    {
      "cell_type": "markdown",
      "metadata": {
        "id": "YqQu5rw9QhZJ"
      },
      "source": [
        "# Performance evaluation"
      ]
    },
    {
      "cell_type": "code",
      "execution_count": null,
      "metadata": {
        "id": "zTJs8h1FQk8a"
      },
      "outputs": [],
      "source": [
        "from sklearn.neighbors import KNeighborsClassifier\n",
        "from sklearn.tree import DecisionTreeClassifier\n",
        "from sklearn.metrics import f1_score, accuracy_score\n",
        "import pickle"
      ]
    },
    {
      "cell_type": "code",
      "execution_count": null,
      "metadata": {
        "id": "njdCnEaGQmlf"
      },
      "outputs": [],
      "source": [
        "loaded_knn = pickle.load(open(r'/content/drive/MyDrive/AI report/knn_model.sav','rb'))"
      ]
    },
    {
      "cell_type": "code",
      "execution_count": null,
      "metadata": {
        "id": "yMF1p9mDQqQW"
      },
      "outputs": [],
      "source": [
        "import pandas as pd\n",
        "\n",
        "test_set = pd.read_csv(r'/content/drive/MyDrive/AI report/test_set.csv', encoding='Latin-1')\n",
        "X_test = test_set.drop(columns = 'y')\n",
        "y_test = test_set.y"
      ]
    },
    {
      "cell_type": "markdown",
      "metadata": {
        "id": "0me24oBwnDR3"
      },
      "source": [
        " **test for balanced dataset**"
      ]
    },
    {
      "cell_type": "markdown",
      "metadata": {
        "id": "rfm1FJFtnFvk"
      },
      "source": [
        "**1. KNN**"
      ]
    },
    {
      "cell_type": "code",
      "execution_count": null,
      "metadata": {
        "colab": {
          "base_uri": "https://localhost:8080/",
          "height": 227
        },
        "id": "_nU_9mJ8nIlO",
        "outputId": "0bc10ffc-ba58-4fa1-9743-4ae2769f5f91"
      },
      "outputs": [
        {
          "name": "stdout",
          "output_type": "stream",
          "text": [
            "Test Accuracy:  0.7944885567491826\n",
            "Test F1 Score:  0.7806580259222332\n",
            "Confusion Matrix on Test Data\n"
          ]
        },
        {
          "data": {
            "text/html": [
              "\n",
              "  <div id=\"df-bfcf6594-adcf-4893-8124-3c2873d5c67c\">\n",
              "    <div class=\"colab-df-container\">\n",
              "      <div>\n",
              "<style scoped>\n",
              "    .dataframe tbody tr th:only-of-type {\n",
              "        vertical-align: middle;\n",
              "    }\n",
              "\n",
              "    .dataframe tbody tr th {\n",
              "        vertical-align: top;\n",
              "    }\n",
              "\n",
              "    .dataframe thead th {\n",
              "        text-align: right;\n",
              "    }\n",
              "</style>\n",
              "<table border=\"1\" class=\"dataframe\">\n",
              "  <thead>\n",
              "    <tr style=\"text-align: right;\">\n",
              "      <th>Predicted</th>\n",
              "      <th>0</th>\n",
              "      <th>1</th>\n",
              "      <th>All</th>\n",
              "    </tr>\n",
              "    <tr>\n",
              "      <th>True</th>\n",
              "      <th></th>\n",
              "      <th></th>\n",
              "      <th></th>\n",
              "    </tr>\n",
              "  </thead>\n",
              "  <tbody>\n",
              "    <tr>\n",
              "      <th>0</th>\n",
              "      <td>918</td>\n",
              "      <td>215</td>\n",
              "      <td>1133</td>\n",
              "    </tr>\n",
              "    <tr>\n",
              "      <th>1</th>\n",
              "      <td>225</td>\n",
              "      <td>783</td>\n",
              "      <td>1008</td>\n",
              "    </tr>\n",
              "    <tr>\n",
              "      <th>All</th>\n",
              "      <td>1143</td>\n",
              "      <td>998</td>\n",
              "      <td>2141</td>\n",
              "    </tr>\n",
              "  </tbody>\n",
              "</table>\n",
              "</div>\n",
              "      <button class=\"colab-df-convert\" onclick=\"convertToInteractive('df-bfcf6594-adcf-4893-8124-3c2873d5c67c')\"\n",
              "              title=\"Convert this dataframe to an interactive table.\"\n",
              "              style=\"display:none;\">\n",
              "        \n",
              "  <svg xmlns=\"http://www.w3.org/2000/svg\" height=\"24px\"viewBox=\"0 0 24 24\"\n",
              "       width=\"24px\">\n",
              "    <path d=\"M0 0h24v24H0V0z\" fill=\"none\"/>\n",
              "    <path d=\"M18.56 5.44l.94 2.06.94-2.06 2.06-.94-2.06-.94-.94-2.06-.94 2.06-2.06.94zm-11 1L8.5 8.5l.94-2.06 2.06-.94-2.06-.94L8.5 2.5l-.94 2.06-2.06.94zm10 10l.94 2.06.94-2.06 2.06-.94-2.06-.94-.94-2.06-.94 2.06-2.06.94z\"/><path d=\"M17.41 7.96l-1.37-1.37c-.4-.4-.92-.59-1.43-.59-.52 0-1.04.2-1.43.59L10.3 9.45l-7.72 7.72c-.78.78-.78 2.05 0 2.83L4 21.41c.39.39.9.59 1.41.59.51 0 1.02-.2 1.41-.59l7.78-7.78 2.81-2.81c.8-.78.8-2.07 0-2.86zM5.41 20L4 18.59l7.72-7.72 1.47 1.35L5.41 20z\"/>\n",
              "  </svg>\n",
              "      </button>\n",
              "      \n",
              "  <style>\n",
              "    .colab-df-container {\n",
              "      display:flex;\n",
              "      flex-wrap:wrap;\n",
              "      gap: 12px;\n",
              "    }\n",
              "\n",
              "    .colab-df-convert {\n",
              "      background-color: #E8F0FE;\n",
              "      border: none;\n",
              "      border-radius: 50%;\n",
              "      cursor: pointer;\n",
              "      display: none;\n",
              "      fill: #1967D2;\n",
              "      height: 32px;\n",
              "      padding: 0 0 0 0;\n",
              "      width: 32px;\n",
              "    }\n",
              "\n",
              "    .colab-df-convert:hover {\n",
              "      background-color: #E2EBFA;\n",
              "      box-shadow: 0px 1px 2px rgba(60, 64, 67, 0.3), 0px 1px 3px 1px rgba(60, 64, 67, 0.15);\n",
              "      fill: #174EA6;\n",
              "    }\n",
              "\n",
              "    [theme=dark] .colab-df-convert {\n",
              "      background-color: #3B4455;\n",
              "      fill: #D2E3FC;\n",
              "    }\n",
              "\n",
              "    [theme=dark] .colab-df-convert:hover {\n",
              "      background-color: #434B5C;\n",
              "      box-shadow: 0px 1px 3px 1px rgba(0, 0, 0, 0.15);\n",
              "      filter: drop-shadow(0px 1px 2px rgba(0, 0, 0, 0.3));\n",
              "      fill: #FFFFFF;\n",
              "    }\n",
              "  </style>\n",
              "\n",
              "      <script>\n",
              "        const buttonEl =\n",
              "          document.querySelector('#df-bfcf6594-adcf-4893-8124-3c2873d5c67c button.colab-df-convert');\n",
              "        buttonEl.style.display =\n",
              "          google.colab.kernel.accessAllowed ? 'block' : 'none';\n",
              "\n",
              "        async function convertToInteractive(key) {\n",
              "          const element = document.querySelector('#df-bfcf6594-adcf-4893-8124-3c2873d5c67c');\n",
              "          const dataTable =\n",
              "            await google.colab.kernel.invokeFunction('convertToInteractive',\n",
              "                                                     [key], {});\n",
              "          if (!dataTable) return;\n",
              "\n",
              "          const docLinkHtml = 'Like what you see? Visit the ' +\n",
              "            '<a target=\"_blank\" href=https://colab.research.google.com/notebooks/data_table.ipynb>data table notebook</a>'\n",
              "            + ' to learn more about interactive tables.';\n",
              "          element.innerHTML = '';\n",
              "          dataTable['output_type'] = 'display_data';\n",
              "          await google.colab.output.renderOutput(dataTable, element);\n",
              "          const docLink = document.createElement('div');\n",
              "          docLink.innerHTML = docLinkHtml;\n",
              "          element.appendChild(docLink);\n",
              "        }\n",
              "      </script>\n",
              "    </div>\n",
              "  </div>\n",
              "  "
            ],
            "text/plain": [
              "Predicted     0    1   All\n",
              "True                      \n",
              "0           918  215  1133\n",
              "1           225  783  1008\n",
              "All        1143  998  2141"
            ]
          },
          "execution_count": 40,
          "metadata": {},
          "output_type": "execute_result"
        }
      ],
      "source": [
        "y_pred = loaded_knn.predict(X_test)\n",
        "print(\"Test Accuracy: \",accuracy_score(y_test,y_pred))\n",
        "print(\"Test F1 Score: \",f1_score(y_test,y_pred))\n",
        "print(\"Confusion Matrix on Test Data\")\n",
        "pd.crosstab(y_test, y_pred, rownames=['True'], colnames=['Predicted'], margins=True)"
      ]
    },
    {
      "cell_type": "markdown",
      "metadata": {
        "id": "shEkE-hmQlwz"
      },
      "source": [
        "**2. SVM Model**"
      ]
    },
    {
      "cell_type": "code",
      "execution_count": null,
      "metadata": {
        "id": "CojDXkF0QoPn"
      },
      "outputs": [],
      "source": [
        "\n",
        "test = clf.predict(X_test)\n"
      ]
    },
    {
      "cell_type": "code",
      "execution_count": null,
      "metadata": {
        "colab": {
          "base_uri": "https://localhost:8080/",
          "height": 227
        },
        "id": "e_yOvPdxPSv7",
        "outputId": "09ef0aba-2e82-41fb-c0f6-734ed7e62f35"
      },
      "outputs": [
        {
          "name": "stdout",
          "output_type": "stream",
          "text": [
            "Test Accuracy:  0.8295189163942083\n",
            "Test F1 Score:  0.82392667631452\n",
            "Confusion Matrix on Test Data\n"
          ]
        },
        {
          "data": {
            "text/html": [
              "\n",
              "  <div id=\"df-7f1a085c-946d-41a8-93bb-fe1e5d60be62\">\n",
              "    <div class=\"colab-df-container\">\n",
              "      <div>\n",
              "<style scoped>\n",
              "    .dataframe tbody tr th:only-of-type {\n",
              "        vertical-align: middle;\n",
              "    }\n",
              "\n",
              "    .dataframe tbody tr th {\n",
              "        vertical-align: top;\n",
              "    }\n",
              "\n",
              "    .dataframe thead th {\n",
              "        text-align: right;\n",
              "    }\n",
              "</style>\n",
              "<table border=\"1\" class=\"dataframe\">\n",
              "  <thead>\n",
              "    <tr style=\"text-align: right;\">\n",
              "      <th>Predicted</th>\n",
              "      <th>0</th>\n",
              "      <th>1</th>\n",
              "      <th>All</th>\n",
              "    </tr>\n",
              "    <tr>\n",
              "      <th>True</th>\n",
              "      <th></th>\n",
              "      <th></th>\n",
              "      <th></th>\n",
              "    </tr>\n",
              "  </thead>\n",
              "  <tbody>\n",
              "    <tr>\n",
              "      <th>0</th>\n",
              "      <td>922</td>\n",
              "      <td>211</td>\n",
              "      <td>1133</td>\n",
              "    </tr>\n",
              "    <tr>\n",
              "      <th>1</th>\n",
              "      <td>154</td>\n",
              "      <td>854</td>\n",
              "      <td>1008</td>\n",
              "    </tr>\n",
              "    <tr>\n",
              "      <th>All</th>\n",
              "      <td>1076</td>\n",
              "      <td>1065</td>\n",
              "      <td>2141</td>\n",
              "    </tr>\n",
              "  </tbody>\n",
              "</table>\n",
              "</div>\n",
              "      <button class=\"colab-df-convert\" onclick=\"convertToInteractive('df-7f1a085c-946d-41a8-93bb-fe1e5d60be62')\"\n",
              "              title=\"Convert this dataframe to an interactive table.\"\n",
              "              style=\"display:none;\">\n",
              "        \n",
              "  <svg xmlns=\"http://www.w3.org/2000/svg\" height=\"24px\"viewBox=\"0 0 24 24\"\n",
              "       width=\"24px\">\n",
              "    <path d=\"M0 0h24v24H0V0z\" fill=\"none\"/>\n",
              "    <path d=\"M18.56 5.44l.94 2.06.94-2.06 2.06-.94-2.06-.94-.94-2.06-.94 2.06-2.06.94zm-11 1L8.5 8.5l.94-2.06 2.06-.94-2.06-.94L8.5 2.5l-.94 2.06-2.06.94zm10 10l.94 2.06.94-2.06 2.06-.94-2.06-.94-.94-2.06-.94 2.06-2.06.94z\"/><path d=\"M17.41 7.96l-1.37-1.37c-.4-.4-.92-.59-1.43-.59-.52 0-1.04.2-1.43.59L10.3 9.45l-7.72 7.72c-.78.78-.78 2.05 0 2.83L4 21.41c.39.39.9.59 1.41.59.51 0 1.02-.2 1.41-.59l7.78-7.78 2.81-2.81c.8-.78.8-2.07 0-2.86zM5.41 20L4 18.59l7.72-7.72 1.47 1.35L5.41 20z\"/>\n",
              "  </svg>\n",
              "      </button>\n",
              "      \n",
              "  <style>\n",
              "    .colab-df-container {\n",
              "      display:flex;\n",
              "      flex-wrap:wrap;\n",
              "      gap: 12px;\n",
              "    }\n",
              "\n",
              "    .colab-df-convert {\n",
              "      background-color: #E8F0FE;\n",
              "      border: none;\n",
              "      border-radius: 50%;\n",
              "      cursor: pointer;\n",
              "      display: none;\n",
              "      fill: #1967D2;\n",
              "      height: 32px;\n",
              "      padding: 0 0 0 0;\n",
              "      width: 32px;\n",
              "    }\n",
              "\n",
              "    .colab-df-convert:hover {\n",
              "      background-color: #E2EBFA;\n",
              "      box-shadow: 0px 1px 2px rgba(60, 64, 67, 0.3), 0px 1px 3px 1px rgba(60, 64, 67, 0.15);\n",
              "      fill: #174EA6;\n",
              "    }\n",
              "\n",
              "    [theme=dark] .colab-df-convert {\n",
              "      background-color: #3B4455;\n",
              "      fill: #D2E3FC;\n",
              "    }\n",
              "\n",
              "    [theme=dark] .colab-df-convert:hover {\n",
              "      background-color: #434B5C;\n",
              "      box-shadow: 0px 1px 3px 1px rgba(0, 0, 0, 0.15);\n",
              "      filter: drop-shadow(0px 1px 2px rgba(0, 0, 0, 0.3));\n",
              "      fill: #FFFFFF;\n",
              "    }\n",
              "  </style>\n",
              "\n",
              "      <script>\n",
              "        const buttonEl =\n",
              "          document.querySelector('#df-7f1a085c-946d-41a8-93bb-fe1e5d60be62 button.colab-df-convert');\n",
              "        buttonEl.style.display =\n",
              "          google.colab.kernel.accessAllowed ? 'block' : 'none';\n",
              "\n",
              "        async function convertToInteractive(key) {\n",
              "          const element = document.querySelector('#df-7f1a085c-946d-41a8-93bb-fe1e5d60be62');\n",
              "          const dataTable =\n",
              "            await google.colab.kernel.invokeFunction('convertToInteractive',\n",
              "                                                     [key], {});\n",
              "          if (!dataTable) return;\n",
              "\n",
              "          const docLinkHtml = 'Like what you see? Visit the ' +\n",
              "            '<a target=\"_blank\" href=https://colab.research.google.com/notebooks/data_table.ipynb>data table notebook</a>'\n",
              "            + ' to learn more about interactive tables.';\n",
              "          element.innerHTML = '';\n",
              "          dataTable['output_type'] = 'display_data';\n",
              "          await google.colab.output.renderOutput(dataTable, element);\n",
              "          const docLink = document.createElement('div');\n",
              "          docLink.innerHTML = docLinkHtml;\n",
              "          element.appendChild(docLink);\n",
              "        }\n",
              "      </script>\n",
              "    </div>\n",
              "  </div>\n",
              "  "
            ],
            "text/plain": [
              "Predicted     0     1   All\n",
              "True                       \n",
              "0           922   211  1133\n",
              "1           154   854  1008\n",
              "All        1076  1065  2141"
            ]
          },
          "execution_count": 42,
          "metadata": {},
          "output_type": "execute_result"
        }
      ],
      "source": [
        "print(\"Test Accuracy: \",accuracy_score(y_test,test))\n",
        "print(\"Test F1 Score: \",f1_score(y_test,test))\n",
        "print(\"Confusion Matrix on Test Data\")\n",
        "pd.crosstab(y_test, test, rownames=['True'], colnames=['Predicted'], margins=True)"
      ]
    },
    {
      "cell_type": "markdown",
      "metadata": {
        "id": "r22b9wJenasu"
      },
      "source": [
        "**# test for imbalance dataset**"
      ]
    },
    {
      "cell_type": "markdown",
      "metadata": {
        "id": "QgFPLUy2ndwj"
      },
      "source": [
        "**1. KNN**"
      ]
    },
    {
      "cell_type": "code",
      "execution_count": null,
      "metadata": {
        "colab": {
          "base_uri": "https://localhost:8080/",
          "height": 200
        },
        "id": "Ni_nWraam1Fr",
        "outputId": "2ef52a4e-392b-4503-fe27-5e9cc931cfec"
      },
      "outputs": [
        {
          "ename": "NameError",
          "evalue": "ignored",
          "output_type": "error",
          "traceback": [
            "\u001b[0;31m---------------------------------------------------------------------------\u001b[0m",
            "\u001b[0;31mNameError\u001b[0m                                 Traceback (most recent call last)",
            "\u001b[0;32m<ipython-input-1-4cf748b4bce1>\u001b[0m in \u001b[0;36m<module>\u001b[0;34m()\u001b[0m\n\u001b[0;32m----> 1\u001b[0;31m \u001b[0mtest_imb\u001b[0m \u001b[0;34m=\u001b[0m \u001b[0mpd\u001b[0m\u001b[0;34m.\u001b[0m\u001b[0mread_csv\u001b[0m\u001b[0;34m(\u001b[0m\u001b[0;34mr'/content/drive/MyDrive/AI report/test_set_imb.csv'\u001b[0m\u001b[0;34m,\u001b[0m \u001b[0mencoding\u001b[0m\u001b[0;34m=\u001b[0m \u001b[0;34m'Latin-1'\u001b[0m\u001b[0;34m)\u001b[0m\u001b[0;34m\u001b[0m\u001b[0;34m\u001b[0m\u001b[0m\n\u001b[0m\u001b[1;32m      2\u001b[0m \u001b[0mX_test_imb\u001b[0m \u001b[0;34m=\u001b[0m \u001b[0mtest_imb\u001b[0m\u001b[0;34m.\u001b[0m\u001b[0mdrop\u001b[0m\u001b[0;34m(\u001b[0m\u001b[0mcolumns\u001b[0m \u001b[0;34m=\u001b[0m \u001b[0;34m'y'\u001b[0m\u001b[0;34m)\u001b[0m\u001b[0;34m\u001b[0m\u001b[0;34m\u001b[0m\u001b[0m\n\u001b[1;32m      3\u001b[0m \u001b[0my_test_imb\u001b[0m \u001b[0;34m=\u001b[0m\u001b[0mtest_imb\u001b[0m\u001b[0;34m.\u001b[0m\u001b[0my\u001b[0m\u001b[0;34m\u001b[0m\u001b[0;34m\u001b[0m\u001b[0m\n",
            "\u001b[0;31mNameError\u001b[0m: name 'pd' is not defined"
          ]
        }
      ],
      "source": [
        "test_imb = pd.read_csv(r'/content/drive/MyDrive/AI report/test_set_imb.csv', encoding= 'Latin-1')\n",
        "X_test_imb = test_imb.drop(columns = 'y')\n",
        "y_test_imb =test_imb.y"
      ]
    },
    {
      "cell_type": "code",
      "execution_count": null,
      "metadata": {
        "colab": {
          "base_uri": "https://localhost:8080/",
          "height": 227
        },
        "id": "F4AjU95wnic7",
        "outputId": "5a1a050b-6f35-423c-d898-28c7e6ebafb5"
      },
      "outputs": [
        {
          "name": "stdout",
          "output_type": "stream",
          "text": [
            "Test Accuracy:  0.8859392575928009\n",
            "Test F1 Score:  0.2511078286558346\n",
            "Confusion Matrix on Test Data\n"
          ]
        },
        {
          "data": {
            "text/html": [
              "\n",
              "  <div id=\"df-89d1d2e8-a58e-421d-ad0d-1a3ab063cb19\">\n",
              "    <div class=\"colab-df-container\">\n",
              "      <div>\n",
              "<style scoped>\n",
              "    .dataframe tbody tr th:only-of-type {\n",
              "        vertical-align: middle;\n",
              "    }\n",
              "\n",
              "    .dataframe tbody tr th {\n",
              "        vertical-align: top;\n",
              "    }\n",
              "\n",
              "    .dataframe thead th {\n",
              "        text-align: right;\n",
              "    }\n",
              "</style>\n",
              "<table border=\"1\" class=\"dataframe\">\n",
              "  <thead>\n",
              "    <tr style=\"text-align: right;\">\n",
              "      <th>Predicted</th>\n",
              "      <th>0</th>\n",
              "      <th>1</th>\n",
              "      <th>All</th>\n",
              "    </tr>\n",
              "    <tr>\n",
              "      <th>True</th>\n",
              "      <th></th>\n",
              "      <th></th>\n",
              "      <th></th>\n",
              "    </tr>\n",
              "  </thead>\n",
              "  <tbody>\n",
              "    <tr>\n",
              "      <th>0</th>\n",
              "      <td>7706</td>\n",
              "      <td>100</td>\n",
              "      <td>7806</td>\n",
              "    </tr>\n",
              "    <tr>\n",
              "      <th>1</th>\n",
              "      <td>914</td>\n",
              "      <td>170</td>\n",
              "      <td>1084</td>\n",
              "    </tr>\n",
              "    <tr>\n",
              "      <th>All</th>\n",
              "      <td>8620</td>\n",
              "      <td>270</td>\n",
              "      <td>8890</td>\n",
              "    </tr>\n",
              "  </tbody>\n",
              "</table>\n",
              "</div>\n",
              "      <button class=\"colab-df-convert\" onclick=\"convertToInteractive('df-89d1d2e8-a58e-421d-ad0d-1a3ab063cb19')\"\n",
              "              title=\"Convert this dataframe to an interactive table.\"\n",
              "              style=\"display:none;\">\n",
              "        \n",
              "  <svg xmlns=\"http://www.w3.org/2000/svg\" height=\"24px\"viewBox=\"0 0 24 24\"\n",
              "       width=\"24px\">\n",
              "    <path d=\"M0 0h24v24H0V0z\" fill=\"none\"/>\n",
              "    <path d=\"M18.56 5.44l.94 2.06.94-2.06 2.06-.94-2.06-.94-.94-2.06-.94 2.06-2.06.94zm-11 1L8.5 8.5l.94-2.06 2.06-.94-2.06-.94L8.5 2.5l-.94 2.06-2.06.94zm10 10l.94 2.06.94-2.06 2.06-.94-2.06-.94-.94-2.06-.94 2.06-2.06.94z\"/><path d=\"M17.41 7.96l-1.37-1.37c-.4-.4-.92-.59-1.43-.59-.52 0-1.04.2-1.43.59L10.3 9.45l-7.72 7.72c-.78.78-.78 2.05 0 2.83L4 21.41c.39.39.9.59 1.41.59.51 0 1.02-.2 1.41-.59l7.78-7.78 2.81-2.81c.8-.78.8-2.07 0-2.86zM5.41 20L4 18.59l7.72-7.72 1.47 1.35L5.41 20z\"/>\n",
              "  </svg>\n",
              "      </button>\n",
              "      \n",
              "  <style>\n",
              "    .colab-df-container {\n",
              "      display:flex;\n",
              "      flex-wrap:wrap;\n",
              "      gap: 12px;\n",
              "    }\n",
              "\n",
              "    .colab-df-convert {\n",
              "      background-color: #E8F0FE;\n",
              "      border: none;\n",
              "      border-radius: 50%;\n",
              "      cursor: pointer;\n",
              "      display: none;\n",
              "      fill: #1967D2;\n",
              "      height: 32px;\n",
              "      padding: 0 0 0 0;\n",
              "      width: 32px;\n",
              "    }\n",
              "\n",
              "    .colab-df-convert:hover {\n",
              "      background-color: #E2EBFA;\n",
              "      box-shadow: 0px 1px 2px rgba(60, 64, 67, 0.3), 0px 1px 3px 1px rgba(60, 64, 67, 0.15);\n",
              "      fill: #174EA6;\n",
              "    }\n",
              "\n",
              "    [theme=dark] .colab-df-convert {\n",
              "      background-color: #3B4455;\n",
              "      fill: #D2E3FC;\n",
              "    }\n",
              "\n",
              "    [theme=dark] .colab-df-convert:hover {\n",
              "      background-color: #434B5C;\n",
              "      box-shadow: 0px 1px 3px 1px rgba(0, 0, 0, 0.15);\n",
              "      filter: drop-shadow(0px 1px 2px rgba(0, 0, 0, 0.3));\n",
              "      fill: #FFFFFF;\n",
              "    }\n",
              "  </style>\n",
              "\n",
              "      <script>\n",
              "        const buttonEl =\n",
              "          document.querySelector('#df-89d1d2e8-a58e-421d-ad0d-1a3ab063cb19 button.colab-df-convert');\n",
              "        buttonEl.style.display =\n",
              "          google.colab.kernel.accessAllowed ? 'block' : 'none';\n",
              "\n",
              "        async function convertToInteractive(key) {\n",
              "          const element = document.querySelector('#df-89d1d2e8-a58e-421d-ad0d-1a3ab063cb19');\n",
              "          const dataTable =\n",
              "            await google.colab.kernel.invokeFunction('convertToInteractive',\n",
              "                                                     [key], {});\n",
              "          if (!dataTable) return;\n",
              "\n",
              "          const docLinkHtml = 'Like what you see? Visit the ' +\n",
              "            '<a target=\"_blank\" href=https://colab.research.google.com/notebooks/data_table.ipynb>data table notebook</a>'\n",
              "            + ' to learn more about interactive tables.';\n",
              "          element.innerHTML = '';\n",
              "          dataTable['output_type'] = 'display_data';\n",
              "          await google.colab.output.renderOutput(dataTable, element);\n",
              "          const docLink = document.createElement('div');\n",
              "          docLink.innerHTML = docLinkHtml;\n",
              "          element.appendChild(docLink);\n",
              "        }\n",
              "      </script>\n",
              "    </div>\n",
              "  </div>\n",
              "  "
            ],
            "text/plain": [
              "Predicted     0    1   All\n",
              "True                      \n",
              "0          7706  100  7806\n",
              "1           914  170  1084\n",
              "All        8620  270  8890"
            ]
          },
          "execution_count": 44,
          "metadata": {},
          "output_type": "execute_result"
        }
      ],
      "source": [
        "loaded_knn_imb = pickle.load(open(r'/content/drive/MyDrive/AI report/knn_model_imb.sav','rb'))\n",
        "y_pred_imb = loaded_knn_imb.predict(X_test_imb)\n",
        "print(\"Test Accuracy: \",accuracy_score(y_test_imb,y_pred_imb))\n",
        "print(\"Test F1 Score: \",f1_score(y_test_imb,y_pred_imb))\n",
        "print(\"Confusion Matrix on Test Data\")\n",
        "pd.crosstab(y_test_imb, y_pred_imb, rownames=['True'], colnames=['Predicted'], margins=True)"
      ]
    },
    {
      "cell_type": "markdown",
      "metadata": {
        "id": "hqJN3CJbRShL"
      },
      "source": [
        "**2. SVM Model**"
      ]
    },
    {
      "cell_type": "code",
      "execution_count": null,
      "metadata": {
        "id": "Yhu55FAnRV_D"
      },
      "outputs": [],
      "source": [
        "\n",
        "test_imb = clf.predict(X_test_imb)\n"
      ]
    },
    {
      "cell_type": "code",
      "execution_count": null,
      "metadata": {
        "colab": {
          "base_uri": "https://localhost:8080/",
          "height": 227
        },
        "id": "sFpY3BzdRfNb",
        "outputId": "1e164f56-a053-4603-add7-ca187e82fac3"
      },
      "outputs": [
        {
          "name": "stdout",
          "output_type": "stream",
          "text": [
            "Test Accuracy:  0.6507311586051744\n",
            "Test F1 Score:  0.39485480413174817\n",
            "Confusion Matrix on Test_imb Data\n"
          ]
        },
        {
          "data": {
            "text/html": [
              "\n",
              "  <div id=\"df-712e0dc6-8210-4c93-b4e7-8acdeb37474c\">\n",
              "    <div class=\"colab-df-container\">\n",
              "      <div>\n",
              "<style scoped>\n",
              "    .dataframe tbody tr th:only-of-type {\n",
              "        vertical-align: middle;\n",
              "    }\n",
              "\n",
              "    .dataframe tbody tr th {\n",
              "        vertical-align: top;\n",
              "    }\n",
              "\n",
              "    .dataframe thead th {\n",
              "        text-align: right;\n",
              "    }\n",
              "</style>\n",
              "<table border=\"1\" class=\"dataframe\">\n",
              "  <thead>\n",
              "    <tr style=\"text-align: right;\">\n",
              "      <th>Predicted</th>\n",
              "      <th>0</th>\n",
              "      <th>1</th>\n",
              "      <th>All</th>\n",
              "    </tr>\n",
              "    <tr>\n",
              "      <th>True</th>\n",
              "      <th></th>\n",
              "      <th></th>\n",
              "      <th></th>\n",
              "    </tr>\n",
              "  </thead>\n",
              "  <tbody>\n",
              "    <tr>\n",
              "      <th>0</th>\n",
              "      <td>4772</td>\n",
              "      <td>3034</td>\n",
              "      <td>7806</td>\n",
              "    </tr>\n",
              "    <tr>\n",
              "      <th>1</th>\n",
              "      <td>71</td>\n",
              "      <td>1013</td>\n",
              "      <td>1084</td>\n",
              "    </tr>\n",
              "    <tr>\n",
              "      <th>All</th>\n",
              "      <td>4843</td>\n",
              "      <td>4047</td>\n",
              "      <td>8890</td>\n",
              "    </tr>\n",
              "  </tbody>\n",
              "</table>\n",
              "</div>\n",
              "      <button class=\"colab-df-convert\" onclick=\"convertToInteractive('df-712e0dc6-8210-4c93-b4e7-8acdeb37474c')\"\n",
              "              title=\"Convert this dataframe to an interactive table.\"\n",
              "              style=\"display:none;\">\n",
              "        \n",
              "  <svg xmlns=\"http://www.w3.org/2000/svg\" height=\"24px\"viewBox=\"0 0 24 24\"\n",
              "       width=\"24px\">\n",
              "    <path d=\"M0 0h24v24H0V0z\" fill=\"none\"/>\n",
              "    <path d=\"M18.56 5.44l.94 2.06.94-2.06 2.06-.94-2.06-.94-.94-2.06-.94 2.06-2.06.94zm-11 1L8.5 8.5l.94-2.06 2.06-.94-2.06-.94L8.5 2.5l-.94 2.06-2.06.94zm10 10l.94 2.06.94-2.06 2.06-.94-2.06-.94-.94-2.06-.94 2.06-2.06.94z\"/><path d=\"M17.41 7.96l-1.37-1.37c-.4-.4-.92-.59-1.43-.59-.52 0-1.04.2-1.43.59L10.3 9.45l-7.72 7.72c-.78.78-.78 2.05 0 2.83L4 21.41c.39.39.9.59 1.41.59.51 0 1.02-.2 1.41-.59l7.78-7.78 2.81-2.81c.8-.78.8-2.07 0-2.86zM5.41 20L4 18.59l7.72-7.72 1.47 1.35L5.41 20z\"/>\n",
              "  </svg>\n",
              "      </button>\n",
              "      \n",
              "  <style>\n",
              "    .colab-df-container {\n",
              "      display:flex;\n",
              "      flex-wrap:wrap;\n",
              "      gap: 12px;\n",
              "    }\n",
              "\n",
              "    .colab-df-convert {\n",
              "      background-color: #E8F0FE;\n",
              "      border: none;\n",
              "      border-radius: 50%;\n",
              "      cursor: pointer;\n",
              "      display: none;\n",
              "      fill: #1967D2;\n",
              "      height: 32px;\n",
              "      padding: 0 0 0 0;\n",
              "      width: 32px;\n",
              "    }\n",
              "\n",
              "    .colab-df-convert:hover {\n",
              "      background-color: #E2EBFA;\n",
              "      box-shadow: 0px 1px 2px rgba(60, 64, 67, 0.3), 0px 1px 3px 1px rgba(60, 64, 67, 0.15);\n",
              "      fill: #174EA6;\n",
              "    }\n",
              "\n",
              "    [theme=dark] .colab-df-convert {\n",
              "      background-color: #3B4455;\n",
              "      fill: #D2E3FC;\n",
              "    }\n",
              "\n",
              "    [theme=dark] .colab-df-convert:hover {\n",
              "      background-color: #434B5C;\n",
              "      box-shadow: 0px 1px 3px 1px rgba(0, 0, 0, 0.15);\n",
              "      filter: drop-shadow(0px 1px 2px rgba(0, 0, 0, 0.3));\n",
              "      fill: #FFFFFF;\n",
              "    }\n",
              "  </style>\n",
              "\n",
              "      <script>\n",
              "        const buttonEl =\n",
              "          document.querySelector('#df-712e0dc6-8210-4c93-b4e7-8acdeb37474c button.colab-df-convert');\n",
              "        buttonEl.style.display =\n",
              "          google.colab.kernel.accessAllowed ? 'block' : 'none';\n",
              "\n",
              "        async function convertToInteractive(key) {\n",
              "          const element = document.querySelector('#df-712e0dc6-8210-4c93-b4e7-8acdeb37474c');\n",
              "          const dataTable =\n",
              "            await google.colab.kernel.invokeFunction('convertToInteractive',\n",
              "                                                     [key], {});\n",
              "          if (!dataTable) return;\n",
              "\n",
              "          const docLinkHtml = 'Like what you see? Visit the ' +\n",
              "            '<a target=\"_blank\" href=https://colab.research.google.com/notebooks/data_table.ipynb>data table notebook</a>'\n",
              "            + ' to learn more about interactive tables.';\n",
              "          element.innerHTML = '';\n",
              "          dataTable['output_type'] = 'display_data';\n",
              "          await google.colab.output.renderOutput(dataTable, element);\n",
              "          const docLink = document.createElement('div');\n",
              "          docLink.innerHTML = docLinkHtml;\n",
              "          element.appendChild(docLink);\n",
              "        }\n",
              "      </script>\n",
              "    </div>\n",
              "  </div>\n",
              "  "
            ],
            "text/plain": [
              "Predicted     0     1   All\n",
              "True                       \n",
              "0          4772  3034  7806\n",
              "1            71  1013  1084\n",
              "All        4843  4047  8890"
            ]
          },
          "execution_count": 45,
          "metadata": {},
          "output_type": "execute_result"
        }
      ],
      "source": [
        "print(\"Test Accuracy: \",accuracy_score(y_test_imb, test_imb))\n",
        "print(\"Test F1 Score: \",f1_score(y_test_imb, test_imb))\n",
        "print(\"Confusion Matrix on Test_imb Data\")\n",
        "pd.crosstab(y_test_imb, test_imb, rownames=['True'], colnames=['Predicted'], margins=True)"
      ]
    }
  ],
  "metadata": {
    "accelerator": "GPU",
    "colab": {
      "provenance": [],
      "include_colab_link": true
    },
    "gpuClass": "standard",
    "kernelspec": {
      "display_name": "Python 3",
      "name": "python3"
    },
    "language_info": {
      "name": "python"
    }
  },
  "nbformat": 4,
  "nbformat_minor": 0
}